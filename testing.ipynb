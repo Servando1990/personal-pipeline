{
 "cells": [
  {
   "cell_type": "code",
   "execution_count": 1,
   "metadata": {},
   "outputs": [],
   "source": [
    "from pathlib import Path\n",
    "from src.data.dataset_reader import DatasetReader\n",
    "data_folder = Path(\"data\").resolve()\n",
    "df = DatasetReader(data_folder).get_data('credit.csv')"
   ]
  },
  {
   "cell_type": "code",
   "execution_count": 2,
   "metadata": {},
   "outputs": [
    {
     "data": {
      "text/html": [
       "<div>\n",
       "<style scoped>\n",
       "    .dataframe tbody tr th:only-of-type {\n",
       "        vertical-align: middle;\n",
       "    }\n",
       "\n",
       "    .dataframe tbody tr th {\n",
       "        vertical-align: top;\n",
       "    }\n",
       "\n",
       "    .dataframe thead th {\n",
       "        text-align: right;\n",
       "    }\n",
       "</style>\n",
       "<table border=\"1\" class=\"dataframe\">\n",
       "  <thead>\n",
       "    <tr style=\"text-align: right;\">\n",
       "      <th></th>\n",
       "      <th>Unnamed: 0</th>\n",
       "      <th>checking_balance</th>\n",
       "      <th>months_loan_duration</th>\n",
       "      <th>credit_history</th>\n",
       "      <th>purpose</th>\n",
       "      <th>amount</th>\n",
       "      <th>savings_balance</th>\n",
       "      <th>employment_length</th>\n",
       "      <th>installment_rate</th>\n",
       "      <th>personal_status</th>\n",
       "      <th>...</th>\n",
       "      <th>age</th>\n",
       "      <th>installment_plan</th>\n",
       "      <th>housing</th>\n",
       "      <th>existing_credits</th>\n",
       "      <th>default</th>\n",
       "      <th>dependents</th>\n",
       "      <th>telephone</th>\n",
       "      <th>foreign_worker</th>\n",
       "      <th>job</th>\n",
       "      <th>gender</th>\n",
       "    </tr>\n",
       "  </thead>\n",
       "  <tbody>\n",
       "    <tr>\n",
       "      <th>0</th>\n",
       "      <td>0</td>\n",
       "      <td>-43.0</td>\n",
       "      <td>6</td>\n",
       "      <td>critical</td>\n",
       "      <td>radio/tv</td>\n",
       "      <td>1169</td>\n",
       "      <td>NaN</td>\n",
       "      <td>13 years</td>\n",
       "      <td>4</td>\n",
       "      <td>single</td>\n",
       "      <td>...</td>\n",
       "      <td>67</td>\n",
       "      <td>none</td>\n",
       "      <td>own</td>\n",
       "      <td>2</td>\n",
       "      <td>0</td>\n",
       "      <td>1</td>\n",
       "      <td>2.349340e+09</td>\n",
       "      <td>yes</td>\n",
       "      <td>skilled employee</td>\n",
       "      <td>male</td>\n",
       "    </tr>\n",
       "    <tr>\n",
       "      <th>1</th>\n",
       "      <td>1</td>\n",
       "      <td>75.0</td>\n",
       "      <td>48</td>\n",
       "      <td>repaid</td>\n",
       "      <td>radio/tv</td>\n",
       "      <td>5951</td>\n",
       "      <td>89.0</td>\n",
       "      <td>2 years</td>\n",
       "      <td>2</td>\n",
       "      <td>NaN</td>\n",
       "      <td>...</td>\n",
       "      <td>22</td>\n",
       "      <td>none</td>\n",
       "      <td>own</td>\n",
       "      <td>1</td>\n",
       "      <td>1</td>\n",
       "      <td>1</td>\n",
       "      <td>NaN</td>\n",
       "      <td>yes</td>\n",
       "      <td>skilled employee</td>\n",
       "      <td>female</td>\n",
       "    </tr>\n",
       "  </tbody>\n",
       "</table>\n",
       "<p>2 rows × 23 columns</p>\n",
       "</div>"
      ],
      "text/plain": [
       "   Unnamed: 0  checking_balance  months_loan_duration credit_history  \\\n",
       "0           0             -43.0                     6       critical   \n",
       "1           1              75.0                    48         repaid   \n",
       "\n",
       "    purpose  amount  savings_balance employment_length  installment_rate  \\\n",
       "0  radio/tv    1169              NaN          13 years                 4   \n",
       "1  radio/tv    5951             89.0           2 years                 2   \n",
       "\n",
       "  personal_status  ... age installment_plan housing  existing_credits default  \\\n",
       "0          single  ...  67             none     own                 2       0   \n",
       "1             NaN  ...  22             none     own                 1       1   \n",
       "\n",
       "  dependents     telephone  foreign_worker               job  gender  \n",
       "0          1  2.349340e+09             yes  skilled employee    male  \n",
       "1          1           NaN             yes  skilled employee  female  \n",
       "\n",
       "[2 rows x 23 columns]"
      ]
     },
     "execution_count": 2,
     "metadata": {},
     "output_type": "execute_result"
    }
   ],
   "source": [
    "df.head(2)"
   ]
  },
  {
   "cell_type": "code",
   "execution_count": 3,
   "metadata": {},
   "outputs": [],
   "source": [
    "from src.data.preprocessing_data import Dataset\n",
    "\n",
    "data = Dataset()\n",
    "\n",
    "\n",
    "df , df_backup = data.preprocess_data(df,drop_features=['Unnamed: 0', 'telephone'])"
   ]
  },
  {
   "cell_type": "code",
   "execution_count": 4,
   "metadata": {},
   "outputs": [],
   "source": [
    "# Train test split on choosed dataset \n",
    "\n",
    "from sklearn.model_selection import train_test_split\n",
    "X = df.drop(columns=['default']).values\n",
    "y = df['default'].values\n",
    "X_train, X_test, y_train, y_test = train_test_split(X, y, test_size=0.3, random_state=123, stratify=y)"
   ]
  },
  {
   "cell_type": "code",
   "execution_count": 5,
   "metadata": {},
   "outputs": [],
   "source": [
    "from src.modeling.models import tree_models\n",
    "\n",
    "rf = tree_models.RandomForestClassifierWrapper()"
   ]
  },
  {
   "cell_type": "code",
   "execution_count": 6,
   "metadata": {},
   "outputs": [
    {
     "name": "stderr",
     "output_type": "stream",
     "text": [
      "\u001b[32m[I 2023-02-22 21:33:04,433]\u001b[0m A new study created in memory with name: no-name-71f1f57f-96e9-46bb-9c5b-6e3575197f12\u001b[0m\n"
     ]
    },
    {
     "name": "stdout",
     "output_type": "stream",
     "text": [
      "CV scores:[0.5 0.  0.  0.  0. ]\n",
      "CV scores:[0.5 0.5 0.  0.  0. ]\n",
      "CV scores:[0.5 0.5 0.5 0.  0. ]\n",
      "CV scores:[0.5 0.5 0.5 0.5 0. ]\n"
     ]
    },
    {
     "name": "stderr",
     "output_type": "stream",
     "text": [
      "\u001b[32m[I 2023-02-22 21:33:05,412]\u001b[0m Trial 0 finished with value: 0.5 and parameters: {'n_estimators': 112, 'max_depth': 8, 'min_samples_split': 29, 'min_samples_leaf': 9, 'criterion': 'gini', 'min_impurity_decrease': 0.09175384392302582, 'max_samples': 0.8948436746289703, 'max_features': 0.7992220869959727, 'ccp_alpha': 1.0860341608102475e-05}. Best is trial 0 with value: 0.5.\u001b[0m\n"
     ]
    },
    {
     "name": "stdout",
     "output_type": "stream",
     "text": [
      "CV scores:[0.5 0.5 0.5 0.5 0.5]\n",
      "CV scores:[0.79130224 0.         0.         0.         0.        ]\n",
      "CV scores:[0.79130224 0.69995141 0.         0.         0.        ]\n",
      "CV scores:[0.79130224 0.69995141 0.74173955 0.         0.        ]\n",
      "CV scores:[0.79130224 0.69995141 0.74173955 0.69436346 0.        ]\n"
     ]
    },
    {
     "name": "stderr",
     "output_type": "stream",
     "text": [
      "\u001b[32m[I 2023-02-22 21:33:09,097]\u001b[0m Trial 1 finished with value: 0.7251700680272111 and parameters: {'n_estimators': 493, 'max_depth': 6, 'min_samples_split': 19, 'min_samples_leaf': 36, 'criterion': 'entropy', 'min_impurity_decrease': 0.07691353734149375, 'max_samples': 0.5706604815588006, 'max_features': 0.5909499560464584, 'ccp_alpha': 3.5081387838275364e-07}. Best is trial 1 with value: 0.7251700680272111.\u001b[0m\n"
     ]
    },
    {
     "name": "stdout",
     "output_type": "stream",
     "text": [
      "CV scores:[0.79130224 0.69995141 0.74173955 0.69436346 0.69849368]\n"
     ]
    }
   ],
   "source": [
    "import optuna \n",
    "study = optuna.create_study(direction='maximize')\n",
    "\n",
    "def func(trial):\n",
    "    return rf.train( trial, X_train, y_train)\n",
    "\n",
    "study.optimize(func, n_trials=2)"
   ]
  },
  {
   "cell_type": "code",
   "execution_count": null,
   "metadata": {},
   "outputs": [],
   "source": []
  },
  {
   "cell_type": "code",
   "execution_count": null,
   "metadata": {},
   "outputs": [],
   "source": []
  }
 ],
 "metadata": {
  "kernelspec": {
   "display_name": "cluster-t",
   "language": "python",
   "name": "python3"
  },
  "language_info": {
   "codemirror_mode": {
    "name": "ipython",
    "version": 3
   },
   "file_extension": ".py",
   "mimetype": "text/x-python",
   "name": "python",
   "nbconvert_exporter": "python",
   "pygments_lexer": "ipython3",
   "version": "3.9.10"
  },
  "orig_nbformat": 4,
  "vscode": {
   "interpreter": {
    "hash": "f7593dc81c4c5f89d7c3d0d53e1886cfdbb332bb25fabe84412f35200ebaf024"
   }
  }
 },
 "nbformat": 4,
 "nbformat_minor": 2
}
