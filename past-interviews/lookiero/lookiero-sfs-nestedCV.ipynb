{
 "cells": [
  {
   "cell_type": "markdown",
   "metadata": {},
   "source": [
    "# Lookiero Take Home Test"
   ]
  },
  {
   "cell_type": "code",
   "execution_count": 1,
   "metadata": {},
   "outputs": [],
   "source": [
    "import pandas as pd\n",
    "import numpy as np\n",
    "import seaborn as sns\n",
    "import matplotlib.pyplot as plt\n",
    "pd.set_option('display.max_rows', 10000)\n",
    "pd.set_option('display.max_columns', 10000)\n",
    "pd.set_option('display.width', 100000000)\n",
    "import warnings\n"
   ]
  },
  {
   "cell_type": "code",
   "execution_count": 2,
   "metadata": {},
   "outputs": [],
   "source": [
    "# Read Data \n",
    "df = pd.read_csv('prueba.csv')"
   ]
  },
  {
   "cell_type": "code",
   "execution_count": 3,
   "metadata": {},
   "outputs": [
    {
     "data": {
      "text/plain": [
       "0"
      ]
     },
     "execution_count": 3,
     "metadata": {},
     "output_type": "execute_result"
    }
   ],
   "source": [
    "# Initial Preprocessing pipeline\n",
    "\n",
    "# Dealing with missing values\n",
    "df.isna().sum().sum()"
   ]
  },
  {
   "cell_type": "code",
   "execution_count": 4,
   "metadata": {},
   "outputs": [],
   "source": [
    "# Feature Selection with Wrapper method \n",
    "\n",
    "from sklearn.preprocessing import StandardScaler\n",
    "\n",
    "# Initialize  Standarization \n",
    "sc = StandardScaler()\n",
    "\n",
    "#  Train / Test Split\n",
    "from sklearn.model_selection import train_test_split\n",
    "\n",
    "X, y = df.iloc[:, :-1].values, df.iloc[:, -1].values\n",
    "\n",
    "X_train, X_test, y_train, y_test =\\\n",
    "    train_test_split(X, y, \n",
    "                     test_size=0.3, \n",
    "                     random_state=1, \n",
    "                     stratify=y)"
   ]
  },
  {
   "cell_type": "code",
   "execution_count": 5,
   "metadata": {},
   "outputs": [],
   "source": [
    "# Standarize Training  and Test data\n",
    "X_train_sc = sc.fit_transform(X_train)\n",
    "X_test_sc = sc.fit_transform(X_test)"
   ]
  },
  {
   "cell_type": "code",
   "execution_count": 6,
   "metadata": {},
   "outputs": [
    {
     "name": "stdout",
     "output_type": "stream",
     "text": [
      "Baseline Training Accuracy: 100.00% \n",
      "Baseline Test Accuracy: 56.00% \n"
     ]
    }
   ],
   "source": [
    "# Set up baseline 3\n",
    "\n",
    "from sklearn.linear_model import LogisticRegression\n",
    "from sklearn.tree import DecisionTreeClassifier\n",
    "\n",
    "# Initialize baseline with fixed random_state\n",
    "baseline = DecisionTreeClassifier(random_state=1)\n",
    "\n",
    "# Fit Baseline with original training data\n",
    "baseline.fit(X_train_sc, y_train)\n",
    "\n",
    "print(f'Baseline Training Accuracy: {np.mean(baseline.predict(X_train_sc) == y_train)*100:.2f}% ')\n",
    "print(f'Baseline Test Accuracy: {np.mean(baseline.predict(X_test_sc) == y_test)*100:.2f}% ')\n"
   ]
  },
  {
   "cell_type": "markdown",
   "metadata": {},
   "source": [
    "### Algorithm Selection via Nested Cross Validation \n",
    "\n",
    "Seleccionamos una batería diversa de algoritmos para ver cual obtiene el mejor desempeño:\n",
    "\n",
    "1. LogisticRegression: Modelo regularizado y primer baseline.\n",
    "\n",
    "2. KNeighborsClassifier: Modelo basado en distancias.\n",
    "\n",
    "3. LightGradientBoosting: Modelo de arbol con técnica bossting.\n",
    "\n",
    "4. SVC: Segundo modelo regularizado.\n",
    "\n",
    "5. RandomForestClassifier: Segundo modelo de arbol.\n",
    "\n"
   ]
  },
  {
   "cell_type": "code",
   "execution_count": 10,
   "metadata": {},
   "outputs": [],
   "source": [
    "\n",
    "from sklearn.model_selection import GridSearchCV\n",
    "from sklearn.model_selection import train_test_split\n",
    "from sklearn.model_selection import StratifiedKFold\n",
    "from sklearn.model_selection import cross_val_score\n",
    "from sklearn.pipeline import Pipeline\n",
    "from sklearn.preprocessing import StandardScaler\n",
    "from sklearn.linear_model import LogisticRegression\n",
    "from sklearn.neighbors import KNeighborsClassifier\n",
    "from sklearn.tree import DecisionTreeClassifier\n",
    "from sklearn.ensemble import RandomForestClassifier\n",
    "from mlxtend.feature_selection import SequentialFeatureSelector as SFS\n",
    "from sklearn.svm import SVC\n",
    "import lightgbm as lgbm\n",
    "\n",
    "\n",
    "# Initializing Classifiers\n",
    "clf1 = LogisticRegression(random_state=1,)\n",
    "\n",
    "sfs1 = SFS(estimator= clf1,\n",
    "k_features=5,\n",
    "forward=True,\n",
    "floating=False,\n",
    "scoring='accuracy',\n",
    "cv=5)\n",
    "\n",
    "pipe1 = Pipeline([('sfs', sfs1), \n",
    "                 ('clf1', clf1)])\n",
    "\n",
    "clf2 = KNeighborsClassifier()\n",
    "\n",
    "sfs2 = SFS(estimator= clf2,\n",
    "k_features=5,\n",
    "forward=True,\n",
    "floating=False,\n",
    "scoring='accuracy',\n",
    "cv=5)\n",
    "\n",
    "pipe2 = Pipeline([('sfs', sfs2), \n",
    "                 ('clf2', clf2)])\n",
    "\n",
    "clf3 = lgbm.LGBMClassifier(random_state=1) \n",
    "\n",
    "sfs3 = SFS(estimator= clf3,\n",
    "k_features=5,\n",
    "forward=True,\n",
    "floating=False,\n",
    "scoring='accuracy',\n",
    "cv=5)\n",
    "\n",
    "pipe3 = Pipeline([('sfs', sfs3), \n",
    "                 ('clf3', clf3)])\n",
    "\n",
    "\n",
    "\n",
    "# Initialize parameters grid to perform Hiperparameter Optimization via GridSearchCV\n",
    "parameter_grid1 = [{'sfs__k_features': [1,2,3,4,5]\n",
    "    ,'sfs__estimator__penalty': ['l2'],\n",
    "                'sfs__estimator__C': np.power(10., np.arange(-4, 4))}]\n",
    "\n",
    "parameter_grid2 = [{'sfs__k_features': [1,2,3,4,5],\n",
    "'sfs__estimator__n_neighbors': list(range(1, 10)),\n",
    "                'sfs__estimator__p': [1, 2]}]\n",
    "\n",
    "parameter_grid3 = [ { 'sfs__k_features': [1,2,3,4,5], \n",
    "                'sfs__estimator__learning_rate': [0.05],\n",
    "                'sfs__estimator__n_estimators': [400,500,600,700,800,900,1000]\n",
    "\n",
    "                }]\n",
    "\n"
   ]
  },
  {
   "cell_type": "code",
   "execution_count": 8,
   "metadata": {},
   "outputs": [],
   "source": [
    "# Setting up multiple GridSearchCV objects, 1 for each algorithm\n",
    "gridcvs = {}\n",
    "inner_cv = StratifiedKFold(n_splits=2, shuffle=True, random_state=1)\n",
    "\n",
    "for pgrid, est, name in zip((parameter_grid1,\n",
    "                             parameter_grid2, \n",
    "                             parameter_grid3),\n",
    "                             \n",
    "                            (pipe1, pipe2, pipe3),\n",
    "                             # SFS objects with cv=5 each e.j \n",
    "                             # clf1 = LogisticRegression(random_state=1,)\n",
    "                             #pipe1 = Pipeline([('sfs', sfs1),('clf1', clf1)])\n",
    "                            ('Logistic Regression', 'KNeighborsClassifier', 'LGBM')):\n",
    "    gcv = GridSearchCV(estimator=est,\n",
    "                       param_grid=pgrid,\n",
    "                       scoring='accuracy',\n",
    "                       n_jobs=1, \n",
    "                       cv=inner_cv,\n",
    "                       verbose=0,\n",
    "                       refit=True)\n",
    "    gridcvs[name] = gcv"
   ]
  },
  {
   "cell_type": "code",
   "execution_count": 11,
   "metadata": {},
   "outputs": [
    {
     "name": "stderr",
     "output_type": "stream",
     "text": [
      "\n",
      "STOPPING EARLY DUE TO KEYBOARD INTERRUPT..."
     ]
    }
   ],
   "source": [
    "outer_cv = StratifiedKFold(n_splits=5, shuffle=True, random_state=1)\n",
    "\n",
    "\n",
    "for name, gs_est in sorted(gridcvs.items()):\n",
    "    nested_score = cross_val_score(gs_est, \n",
    "                                   X=X_train_sc, \n",
    "                                   y=y_train, \n",
    "                                   cv=outer_cv,\n",
    "                                   n_jobs=1) \n",
    "    print(f'{name:<7} | outer ACC {100*nested_score.mean():.2f}% +/- {100*nested_score.std():.2f}')"
   ]
  },
  {
   "cell_type": "code",
   "execution_count": 21,
   "metadata": {},
   "outputs": [
    {
     "name": "stdout",
     "output_type": "stream",
     "text": [
      "Fitting 2 folds for each of 42 candidates, totalling 84 fits\n",
      "Best CV accuracy: 57.14%\n",
      "Best parameters: {'learning_rate': 0.05, 'n_estimators': 400, 'reg_alpha': 1, 'reg_lambda': 1.4}\n"
     ]
    }
   ],
   "source": [
    "# Based on Nested  nested cross validation we see that SCV performs the best\n",
    "# Now we select the best hp on the whole trainin set\n",
    "\n",
    "gcv_model_select = GridSearchCV(estimator=clf3,\n",
    "                                param_grid=parameter_grid3,\n",
    "                                scoring='accuracy',\n",
    "                                n_jobs=1,\n",
    "                                cv=inner_cv,\n",
    "                                verbose=1,\n",
    "                                refit=True)\n",
    "\n",
    "gcv_model_select.fit(X_train_select, y_train)\n",
    "print('Best CV accuracy: %.2f%%' % (gcv_model_select.best_score_*100))\n",
    "print('Best parameters:', gcv_model_select.best_params_)"
   ]
  },
  {
   "cell_type": "code",
   "execution_count": 22,
   "metadata": {},
   "outputs": [
    {
     "name": "stdout",
     "output_type": "stream",
     "text": [
      "Nested CV Accuracy 57.14% (average over k-fold CV test folds)\n",
      "Best Parameters: {'learning_rate': 0.05, 'n_estimators': 400, 'reg_alpha': 1, 'reg_lambda': 1.4}\n",
      "Training Accuracy 100.00%\n",
      "Test Accuracy 72.67%\n"
     ]
    }
   ],
   "source": [
    "from sklearn.metrics import accuracy_score\n",
    "best_model = gcv_model_select.best_estimator_\n",
    "\n",
    "train_acc = accuracy_score(y_true=y_train, y_pred=best_model.predict(X_train_select))\n",
    "test_acc = accuracy_score(y_true=y_test, y_pred=best_model.predict(X_test_select))\n",
    "\n",
    "print(f'Nested CV Accuracy {100 * gcv_model_select.best_score_:.2f}% (average over k-fold CV test folds)')\n",
    "print(f'Best Parameters: {gcv_model_select.best_params_}')\n",
    "\n",
    "print(f'Training Accuracy {100 * train_acc:.2f}%')\n",
    "print(f'Test Accuracy {100 * test_acc:.2f}%')"
   ]
  },
  {
   "cell_type": "code",
   "execution_count": null,
   "metadata": {},
   "outputs": [],
   "source": [
    "from sklearn.model_selection import validation_curve\n",
    "\n",
    "\n",
    "param_range = [0.001, 0.01, 0.1, 1.0, 10.0, 100.0] #np.power(10., np.arange(-4, 4))\n",
    "train_scores, test_scores = validation_curve(\n",
    "                estimator=clf4, \n",
    "                X=X_train_select, \n",
    "                y=y_train, \n",
    "                param_name='C', \n",
    "                param_range = param_range,\n",
    "                cv=5)\n",
    "\n",
    "train_mean = np.mean(train_scores, axis=1)\n",
    "train_std = np.std(train_scores, axis=1)\n",
    "test_mean = np.mean(test_scores, axis=1)\n",
    "test_std = np.std(test_scores, axis=1)\n",
    "\n"
   ]
  },
  {
   "cell_type": "code",
   "execution_count": null,
   "metadata": {},
   "outputs": [],
   "source": [
    "plt.plot(param_range, train_mean, \n",
    "         color='blue', marker='o', \n",
    "         markersize=5, label='Training accuracy')\n",
    "\n",
    "plt.fill_between(param_range, train_mean + train_std,\n",
    "                 train_mean - train_std, alpha=0.15,\n",
    "                 color='blue')\n",
    "\n",
    "plt.plot(param_range, test_mean, \n",
    "         color='green', linestyle='--', \n",
    "         marker='s', markersize=5, \n",
    "         label='Validation accuracy')\n",
    "\n",
    "plt.fill_between(param_range, \n",
    "                 test_mean + test_std,\n",
    "                 test_mean - test_std, \n",
    "                 alpha=0.15, color='green')\n",
    "\n",
    "plt.grid()\n",
    "#plt.xscale('log')\n",
    "plt.legend(loc='lower right')\n",
    "plt.xlabel('Parameter C')\n",
    "plt.ylabel('Accuracy')\n",
    "#plt.ylim([0.8, 1.0])\n",
    "#plt.tight_layout()\n",
    "# plt.savefig('figures/06_06.png', dpi=300)\n",
    "plt.show()"
   ]
  },
  {
   "cell_type": "code",
   "execution_count": 23,
   "metadata": {},
   "outputs": [],
   "source": [
    "import matplotlib.pyplot as plt\n",
    "from sklearn.model_selection import learning_curve\n",
    "\n",
    "\n",
    "train_sizes, train_scores, test_scores =\\\n",
    "                learning_curve(estimator=clf3,\n",
    "                               X=X_train_select,\n",
    "                               y=y_train,\n",
    "                               train_sizes=np.linspace(0.1, 1.0, 10),\n",
    "                               cv=10,\n",
    "                               n_jobs=1)\n",
    "\n",
    "train_mean = np.mean(train_scores, axis=1)\n",
    "train_std = np.std(train_scores, axis=1)\n",
    "test_mean = np.mean(test_scores, axis=1)\n",
    "test_std = np.std(test_scores, axis=1)\n"
   ]
  },
  {
   "cell_type": "code",
   "execution_count": 24,
   "metadata": {},
   "outputs": [
    {
     "data": {
      "image/png": "[encoded data removed]",
      "text/plain": [
       "<Figure size 432x288 with 1 Axes>"
      ]
     },
     "metadata": {
      "needs_background": "light"
     },
     "output_type": "display_data"
    }
   ],
   "source": [
    "plt.plot(train_sizes, train_mean,\n",
    "         color='blue', marker='o',\n",
    "         markersize=5, label='Training accuracy')\n",
    "\n",
    "plt.fill_between(train_sizes,\n",
    "                 train_mean + train_std,\n",
    "                 train_mean - train_std,\n",
    "                 alpha=0.15, color='blue')\n",
    "\n",
    "plt.plot(train_sizes, test_mean,\n",
    "         color='green', linestyle='--',\n",
    "         marker='s', markersize=5,\n",
    "         label='Validation accuracy')\n",
    "\n",
    "plt.fill_between(train_sizes,\n",
    "                 test_mean + test_std,\n",
    "                 test_mean - test_std,\n",
    "                 alpha=0.15, color='green')\n",
    "plt.grid()\n",
    "plt.xlabel('Number of training examples')\n",
    "plt.ylabel('Accuracy')\n",
    "plt.legend(loc='lower right')\n",
    "#plt.ylim([0.8, 1.03])\n",
    "#plt.tight_layout()\n",
    "# plt.savefig('figures/06_05.png', dpi=300)\n",
    "plt.show()"
   ]
  },
  {
   "cell_type": "markdown",
   "metadata": {},
   "source": [
    "The graph in the upper-right shows a model that suffers from high variance, which is indicated by the large gap between the training and cross-validation accuracy. To address this problem of overfitting, we can collect more training data, reduce the complexity of the model, or increase the regularization parameter, for example.\n",
    "  [ 202 ]\n",
    " \n",
    "Chapter 6\n",
    "For unregularized models, it can also help to decrease the number of features via feature selection (Chapter 4, Building Good Training Datasets – Data Preprocessing)\n",
    "or feature extraction (Chapter 5, Compressing Data via Dimensionality Reduction) to decrease the degree of overfitting. While collecting more training data usually tends to decrease the chance of overfitting, it may not always help, for example, if the training data is extremely noisy or the model is already very close to optimal."
   ]
  },
  {
   "cell_type": "code",
   "execution_count": null,
   "metadata": {},
   "outputs": [],
   "source": [
    "# Utilizaremos dos técnicas para mejorar el problema de overfitting. \n",
    "# Dado que el modelo ganador es un SVC. Vamos a incrementar el parametro de regularización\n",
    "# Tambien vamos a reducir la complejidad del dataset aun más, quedando con solo los 5 atributos seleccionados por el método wrpaper SFS\n",
    "# No vamos hacer Feature extraction con PCA por que hemos visto que la contrinución individual de los componentes es muy baja \n"
   ]
  },
  {
   "cell_type": "code",
   "execution_count": 25,
   "metadata": {},
   "outputs": [
    {
     "name": "stdout",
     "output_type": "stream",
     "text": [
      "Training accuracy: 100.0\n",
      "Test accuracy: 50.0\n"
     ]
    }
   ],
   "source": [
    "# Segunda iteración \n",
    "\n",
    "\n",
    "model_2it = lgbm.LGBMClassifier(random_state=1)  \n",
    "\n",
    "model_2it.fit(X_train_sc, y_train)\n",
    "\n",
    "print('Training accuracy:', np.mean(model_2it.predict(X_train_sc) == y_train)*100)\n",
    "print('Test accuracy:', np.mean(model_2it.predict(X_test_sc) == y_test)*100)"
   ]
  },
  {
   "cell_type": "code",
   "execution_count": 26,
   "metadata": {},
   "outputs": [],
   "source": [
    "sfs2 = SFS(model_2it, \n",
    "           k_features=5, # reducimos el dataset a 5 atributos\n",
    "           forward=True, \n",
    "           floating=False, \n",
    "           verbose=0,\n",
    "           scoring='accuracy',\n",
    "           cv=5)\n",
    "\n",
    "\n",
    "sfs2 = sfs2.fit(X_train_sc, y_train)"
   ]
  },
  {
   "cell_type": "code",
   "execution_count": 27,
   "metadata": {},
   "outputs": [],
   "source": [
    "# Reducing Dataset based on SFS\n",
    "\n",
    "X_train_select_2it = sfs2.transform(X_train_sc)\n",
    "X_test_select_2it = sfs2.transform(X_test_sc)"
   ]
  },
  {
   "cell_type": "code",
   "execution_count": null,
   "metadata": {},
   "outputs": [],
   "source": [
    "# Dado que el GridSearch que hicimos ya nos dio los mejores parametros no es necesario hacer uno de nuevo.\n",
    "# Solo vamos a incrementar el parametro C y utilizar los que nos dio GScv :\n",
    "# Best Parameters: {'learning_rate': 0.05, 'n_estimators': 400, 'reg_alpha': 1, 'reg_lambda': 1.4}"
   ]
  },
  {
   "cell_type": "code",
   "execution_count": 28,
   "metadata": {},
   "outputs": [
    {
     "name": "stdout",
     "output_type": "stream",
     "text": [
      "Training Accuracy 99.43%\n",
      "Test Accuracy 47.33%\n"
     ]
    }
   ],
   "source": [
    "model_2it_best = lgbm.LGBMClassifier(random_state=1, learning_rate= 0.05,\n",
    "n_estimators=400, reg_alpha=1, reg_lambda=1.4\n",
    ")   # Solo incrementamos parametro C y nos quedamos con los best de GridScv\n",
    "\n",
    "model_2it_best.fit(X_train_select_2it, y_train)\n",
    "train_acc_2it = accuracy_score(y_true=y_train, y_pred=model_2it_best.predict(X_train_select_2it))\n",
    "test_acc_2it = accuracy_score(y_true=y_test, y_pred=model_2it_best.predict(X_test_select_2it))\n",
    "\n",
    "\n",
    "print(f'Training Accuracy {100 * train_acc_2it:.2f}%')\n",
    "print(f'Test Accuracy {100 * test_acc_2it:.2f}%')"
   ]
  },
  {
   "cell_type": "code",
   "execution_count": 29,
   "metadata": {},
   "outputs": [],
   "source": [
    "# learning curve\n",
    "\n",
    "train_sizes, train_scores, test_scores =\\\n",
    "                learning_curve(estimator=model_2it_best,\n",
    "                               X=X_train_select_2it,\n",
    "                               y=y_train,\n",
    "                               train_sizes=np.linspace(0.1, 1.0, 10),\n",
    "                               cv=10,\n",
    "                               n_jobs=1)\n",
    "\n",
    "train_mean = np.mean(train_scores, axis=1)\n",
    "train_std = np.std(train_scores, axis=1)\n",
    "test_mean = np.mean(test_scores, axis=1)\n",
    "test_std = np.std(test_scores, axis=1)"
   ]
  },
  {
   "cell_type": "code",
   "execution_count": 30,
   "metadata": {},
   "outputs": [
    {
     "data": {
      "image/png": "[encoded data removed]",
      "text/plain": [
       "<Figure size 432x288 with 1 Axes>"
      ]
     },
     "metadata": {
      "needs_background": "light"
     },
     "output_type": "display_data"
    }
   ],
   "source": [
    "plt.plot(train_sizes, train_mean,\n",
    "         color='blue', marker='o',\n",
    "         markersize=5, label='Training accuracy')\n",
    "\n",
    "plt.fill_between(train_sizes,\n",
    "                 train_mean + train_std,\n",
    "                 train_mean - train_std,\n",
    "                 alpha=0.15, color='blue')\n",
    "\n",
    "plt.plot(train_sizes, test_mean,\n",
    "         color='green', linestyle='--',\n",
    "         marker='s', markersize=5,\n",
    "         label='Validation accuracy')\n",
    "\n",
    "plt.fill_between(train_sizes,\n",
    "                 test_mean + test_std,\n",
    "                 test_mean - test_std,\n",
    "                 alpha=0.15, color='green')\n",
    "plt.grid()\n",
    "plt.xlabel('Number of training examples')\n",
    "plt.ylabel('Accuracy')\n",
    "plt.legend(loc='lower right')\n",
    "#plt.ylim([0.8, 1.03])\n",
    "#plt.tight_layout()\n",
    "# plt.savefig('figures/06_05.png', dpi=300)\n",
    "plt.show()"
   ]
  },
  {
   "cell_type": "code",
   "execution_count": null,
   "metadata": {},
   "outputs": [],
   "source": []
  }
 ],
 "metadata": {
  "interpreter": {
   "hash": "f7593dc81c4c5f89d7c3d0d53e1886cfdbb332bb25fabe84412f35200ebaf024"
  },
  "kernelspec": {
   "display_name": "Python 3.9.10 ('cluster-t')",
   "language": "python",
   "name": "python3"
  },
  "language_info": {
   "codemirror_mode": {
    "name": "ipython",
    "version": 3
   },
   "file_extension": ".py",
   "mimetype": "text/x-python",
   "name": "python",
   "nbconvert_exporter": "python",
   "pygments_lexer": "ipython3",
   "version": "3.9.10"
  },
  "orig_nbformat": 4
 },
 "nbformat": 4,
 "nbformat_minor": 2
}
