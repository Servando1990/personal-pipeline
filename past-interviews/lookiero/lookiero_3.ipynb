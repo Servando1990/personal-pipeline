{
 "cells": [
  {
   "cell_type": "code",
   "execution_count": 1,
   "metadata": {},
   "outputs": [],
   "source": [
    "import pandas as pd\n",
    "import numpy as np\n",
    "import seaborn as sns\n",
    "import matplotlib.pyplot as plt\n",
    "pd.set_option('display.max_rows', 10000)\n",
    "pd.set_option('display.max_columns', 10000)\n",
    "pd.set_option('display.width', 100000000)\n",
    "import warnings"
   ]
  },
  {
   "cell_type": "code",
   "execution_count": 2,
   "metadata": {},
   "outputs": [],
   "source": [
    "df = pd.read_csv('prueba.csv')"
   ]
  },
  {
   "cell_type": "code",
   "execution_count": 6,
   "metadata": {},
   "outputs": [
    {
     "data": {
      "text/plain": [
       "var_1      0\n",
       "var_2      0\n",
       "var_3      0\n",
       "var_4      0\n",
       "var_5      0\n",
       "var_6      0\n",
       "var_7      0\n",
       "var_8      0\n",
       "var_9      0\n",
       "var_10     0\n",
       "var_11     0\n",
       "var_12     0\n",
       "var_13     0\n",
       "var_14     0\n",
       "var_15     0\n",
       "var_16     0\n",
       "var_17     0\n",
       "var_18     0\n",
       "var_19     0\n",
       "var_20     0\n",
       "var_21     0\n",
       "var_22     0\n",
       "var_23     0\n",
       "var_24     0\n",
       "var_25     0\n",
       "var_26     0\n",
       "var_27     0\n",
       "var_28     0\n",
       "var_29     0\n",
       "var_30     0\n",
       "var_31     0\n",
       "var_32     0\n",
       "var_33     0\n",
       "var_34     0\n",
       "var_35     0\n",
       "var_36     0\n",
       "var_37     0\n",
       "var_38     0\n",
       "var_39     0\n",
       "var_40     0\n",
       "var_41     0\n",
       "var_42     0\n",
       "var_43     0\n",
       "var_44     0\n",
       "var_45     0\n",
       "var_46     0\n",
       "var_47     0\n",
       "var_48     0\n",
       "var_49     0\n",
       "var_50     0\n",
       "var_51     0\n",
       "var_52     0\n",
       "var_53     0\n",
       "var_54     0\n",
       "var_55     0\n",
       "var_56     0\n",
       "var_57     0\n",
       "var_58     0\n",
       "var_59     0\n",
       "var_60     0\n",
       "var_61     0\n",
       "var_62     0\n",
       "var_63     0\n",
       "var_64     0\n",
       "var_65     0\n",
       "var_66     0\n",
       "var_67     0\n",
       "var_68     0\n",
       "var_69     0\n",
       "var_70     0\n",
       "var_71     0\n",
       "var_72     0\n",
       "var_73     0\n",
       "var_74     0\n",
       "var_75     0\n",
       "var_76     0\n",
       "var_77     0\n",
       "var_78     0\n",
       "var_79     0\n",
       "var_80     0\n",
       "var_81     0\n",
       "var_82     0\n",
       "var_83     0\n",
       "var_84     0\n",
       "var_85     0\n",
       "var_86     0\n",
       "var_87     0\n",
       "var_88     0\n",
       "var_89     0\n",
       "var_90     0\n",
       "var_91     0\n",
       "var_92     0\n",
       "var_93     0\n",
       "var_94     0\n",
       "var_95     0\n",
       "var_96     0\n",
       "var_97     0\n",
       "var_98     0\n",
       "var_99     0\n",
       "var_100    0\n",
       "target     0\n",
       "dtype: int64"
      ]
     },
     "execution_count": 6,
     "metadata": {},
     "output_type": "execute_result"
    }
   ],
   "source": [
    "# Initial Preprocessing pipeline\n",
    "\n",
    "# Dealing with missing values\n",
    "df.isnull().sum().sum()"
   ]
  },
  {
   "cell_type": "code",
   "execution_count": 3,
   "metadata": {},
   "outputs": [],
   "source": [
    "# Feature Selection with Wrapper method \n",
    "\n",
    "from sklearn.preprocessing import StandardScaler\n",
    "# Initialize  Standarization \n",
    "\n",
    "sc = StandardScaler()\n",
    "\n",
    "# Dive Train / Test Split\n",
    "from sklearn.model_selection import train_test_split\n",
    "\n",
    "X, y = df.iloc[:, :-1].values, df.iloc[:, -1].values\n",
    "\n",
    "X_train, X_test, y_train, y_test =\\\n",
    "    train_test_split(X, y, \n",
    "                     test_size=0.3, \n",
    "                     random_state=0, \n",
    "                     stratify=y)"
   ]
  },
  {
   "cell_type": "code",
   "execution_count": 4,
   "metadata": {},
   "outputs": [],
   "source": [
    "# Standarize Training data\n",
    "X_train_sc = sc.fit_transform(X_train)\n",
    "X_test_sc = sc.fit_transform(X_test)"
   ]
  },
  {
   "cell_type": "code",
   "execution_count": 5,
   "metadata": {},
   "outputs": [
    {
     "name": "stdout",
     "output_type": "stream",
     "text": [
      "Training accuracy: 100.0\n",
      "Test accuracy: 51.33333333333333\n"
     ]
    }
   ],
   "source": [
    "# setup up a baseline\n",
    "\n",
    "from sklearn.ensemble import RandomForestClassifier\n",
    "from sklearn.tree import DecisionTreeClassifier\n",
    "\n",
    "model = DecisionTreeClassifier()\n",
    "\n",
    "model.fit(X_train_sc, y_train)\n",
    "\n",
    "print('Training accuracy:', np.mean(model.predict(X_train_sc) == y_train)*100)\n",
    "print('Test accuracy:', np.mean(model.predict(X_test_sc) == y_test)*100)\n"
   ]
  },
  {
   "cell_type": "code",
   "execution_count": 6,
   "metadata": {},
   "outputs": [],
   "source": [
    "# Signal of Overfitting\n",
    "\n",
    "#Initial Feature selection with wrapper method\n",
    "from mlxtend.feature_selection import SequentialFeatureSelector as SFS\n",
    "sfs1 = SFS(model, \n",
    "           k_features=30, # or (1, 13) and then select by hand \n",
    "           forward=True, \n",
    "           floating=False, \n",
    "           verbose=0,\n",
    "           scoring='accuracy',\n",
    "           cv=5)\n",
    "\n",
    "\n",
    "sfs1 = sfs1.fit(X_train_sc, y_train)"
   ]
  },
  {
   "cell_type": "code",
   "execution_count": 7,
   "metadata": {},
   "outputs": [
    {
     "data": {
      "image/png": "[encoded data removed]",
      "text/plain": [
       "<Figure size 1440x720 with 1 Axes>"
      ]
     },
     "metadata": {
      "needs_background": "light"
     },
     "output_type": "display_data"
    }
   ],
   "source": [
    "from mlxtend.plotting import plot_sequential_feature_selection as plot_sfs\n",
    "metric_dict = sfs1.get_metric_dict(confidence_interval=0.95)\n",
    "fig1 = plot_sfs(metric_dict, kind='std_dev',figsize=(20,10))\n",
    "\n",
    "plt.title('Sequential Forward Selection (w. StdDev)')\n",
    "plt.grid()\n",
    "\n",
    "plt.show()"
   ]
  },
  {
   "cell_type": "code",
   "execution_count": 12,
   "metadata": {},
   "outputs": [
    {
     "data": {
      "text/html": [
       "<div>\n",
       "<style scoped>\n",
       "    .dataframe tbody tr th:only-of-type {\n",
       "        vertical-align: middle;\n",
       "    }\n",
       "\n",
       "    .dataframe tbody tr th {\n",
       "        vertical-align: top;\n",
       "    }\n",
       "\n",
       "    .dataframe thead th {\n",
       "        text-align: right;\n",
       "    }\n",
       "</style>\n",
       "<table border=\"1\" class=\"dataframe\">\n",
       "  <thead>\n",
       "    <tr style=\"text-align: right;\">\n",
       "      <th></th>\n",
       "      <th>feature_idx</th>\n",
       "      <th>cv_scores</th>\n",
       "      <th>avg_score</th>\n",
       "      <th>feature_names</th>\n",
       "      <th>ci_bound</th>\n",
       "      <th>std_dev</th>\n",
       "      <th>std_err</th>\n",
       "    </tr>\n",
       "  </thead>\n",
       "  <tbody>\n",
       "    <tr>\n",
       "      <th>21</th>\n",
       "      <td>(0, 2, 4, 11, 12, 17, 19, 27, 29, 36, 42, 44, ...</td>\n",
       "      <td>[0.8142857142857143, 0.6428571428571429, 0.728...</td>\n",
       "      <td>0.751429</td>\n",
       "      <td>(0, 2, 4, 11, 12, 17, 19, 27, 29, 36, 42, 44, ...</td>\n",
       "      <td>0.081785</td>\n",
       "      <td>0.063632</td>\n",
       "      <td>0.031816</td>\n",
       "    </tr>\n",
       "    <tr>\n",
       "      <th>22</th>\n",
       "      <td>(0, 2, 4, 11, 12, 17, 19, 27, 29, 36, 42, 44, ...</td>\n",
       "      <td>[0.8, 0.6714285714285714, 0.7142857142857143, ...</td>\n",
       "      <td>0.757143</td>\n",
       "      <td>(0, 2, 4, 11, 12, 17, 19, 27, 29, 36, 42, 44, ...</td>\n",
       "      <td>0.08374</td>\n",
       "      <td>0.065153</td>\n",
       "      <td>0.032576</td>\n",
       "    </tr>\n",
       "    <tr>\n",
       "      <th>23</th>\n",
       "      <td>(0, 2, 4, 11, 12, 17, 19, 27, 29, 36, 40, 42, ...</td>\n",
       "      <td>[0.6857142857142857, 0.7714285714285715, 0.785...</td>\n",
       "      <td>0.762857</td>\n",
       "      <td>(0, 2, 4, 11, 12, 17, 19, 27, 29, 36, 40, 42, ...</td>\n",
       "      <td>0.051412</td>\n",
       "      <td>0.04</td>\n",
       "      <td>0.02</td>\n",
       "    </tr>\n",
       "    <tr>\n",
       "      <th>24</th>\n",
       "      <td>(0, 2, 4, 11, 12, 17, 19, 27, 29, 36, 40, 42, ...</td>\n",
       "      <td>[0.7285714285714285, 0.7285714285714285, 0.714...</td>\n",
       "      <td>0.76</td>\n",
       "      <td>(0, 2, 4, 11, 12, 17, 19, 27, 29, 36, 40, 42, ...</td>\n",
       "      <td>0.073812</td>\n",
       "      <td>0.057428</td>\n",
       "      <td>0.028714</td>\n",
       "    </tr>\n",
       "    <tr>\n",
       "      <th>25</th>\n",
       "      <td>(0, 2, 4, 7, 11, 12, 17, 19, 27, 29, 36, 40, 4...</td>\n",
       "      <td>[0.7285714285714285, 0.6571428571428571, 0.714...</td>\n",
       "      <td>0.737143</td>\n",
       "      <td>(0, 2, 4, 7, 11, 12, 17, 19, 27, 29, 36, 40, 4...</td>\n",
       "      <td>0.068308</td>\n",
       "      <td>0.053146</td>\n",
       "      <td>0.026573</td>\n",
       "    </tr>\n",
       "    <tr>\n",
       "      <th>26</th>\n",
       "      <td>(0, 2, 4, 7, 11, 12, 17, 19, 27, 29, 36, 40, 4...</td>\n",
       "      <td>[0.6857142857142857, 0.7571428571428571, 0.785...</td>\n",
       "      <td>0.751429</td>\n",
       "      <td>(0, 2, 4, 7, 11, 12, 17, 19, 27, 29, 36, 40, 4...</td>\n",
       "      <td>0.068308</td>\n",
       "      <td>0.053146</td>\n",
       "      <td>0.026573</td>\n",
       "    </tr>\n",
       "    <tr>\n",
       "      <th>27</th>\n",
       "      <td>(0, 2, 4, 7, 9, 11, 12, 17, 19, 27, 29, 36, 40...</td>\n",
       "      <td>[0.6571428571428571, 0.6285714285714286, 0.785...</td>\n",
       "      <td>0.722857</td>\n",
       "      <td>(0, 2, 4, 7, 9, 11, 12, 17, 19, 27, 29, 36, 40...</td>\n",
       "      <td>0.085808</td>\n",
       "      <td>0.066762</td>\n",
       "      <td>0.033381</td>\n",
       "    </tr>\n",
       "    <tr>\n",
       "      <th>28</th>\n",
       "      <td>(0, 2, 4, 7, 9, 11, 12, 17, 19, 27, 29, 36, 40...</td>\n",
       "      <td>[0.6428571428571429, 0.6, 0.8142857142857143, ...</td>\n",
       "      <td>0.708571</td>\n",
       "      <td>(0, 2, 4, 7, 9, 11, 12, 17, 19, 27, 29, 36, 40...</td>\n",
       "      <td>0.099626</td>\n",
       "      <td>0.077512</td>\n",
       "      <td>0.038756</td>\n",
       "    </tr>\n",
       "    <tr>\n",
       "      <th>29</th>\n",
       "      <td>(0, 2, 4, 7, 9, 11, 12, 17, 19, 27, 29, 36, 40...</td>\n",
       "      <td>[0.6714285714285714, 0.6857142857142857, 0.8, ...</td>\n",
       "      <td>0.72</td>\n",
       "      <td>(0, 2, 4, 7, 9, 11, 12, 17, 19, 27, 29, 36, 40...</td>\n",
       "      <td>0.064238</td>\n",
       "      <td>0.04998</td>\n",
       "      <td>0.02499</td>\n",
       "    </tr>\n",
       "    <tr>\n",
       "      <th>30</th>\n",
       "      <td>(0, 2, 4, 7, 9, 11, 12, 17, 19, 27, 29, 36, 40...</td>\n",
       "      <td>[0.7142857142857143, 0.6, 0.8142857142857143, ...</td>\n",
       "      <td>0.714286</td>\n",
       "      <td>(0, 2, 4, 7, 9, 11, 12, 17, 19, 27, 29, 36, 40...</td>\n",
       "      <td>0.096462</td>\n",
       "      <td>0.075051</td>\n",
       "      <td>0.037526</td>\n",
       "    </tr>\n",
       "  </tbody>\n",
       "</table>\n",
       "</div>"
      ],
      "text/plain": [
       "                                          feature_idx                                          cv_scores avg_score                                      feature_names  ci_bound   std_dev   std_err\n",
       "21  (0, 2, 4, 11, 12, 17, 19, 27, 29, 36, 42, 44, ...  [0.8142857142857143, 0.6428571428571429, 0.728...  0.751429  (0, 2, 4, 11, 12, 17, 19, 27, 29, 36, 42, 44, ...  0.081785  0.063632  0.031816\n",
       "22  (0, 2, 4, 11, 12, 17, 19, 27, 29, 36, 42, 44, ...  [0.8, 0.6714285714285714, 0.7142857142857143, ...  0.757143  (0, 2, 4, 11, 12, 17, 19, 27, 29, 36, 42, 44, ...   0.08374  0.065153  0.032576\n",
       "23  (0, 2, 4, 11, 12, 17, 19, 27, 29, 36, 40, 42, ...  [0.6857142857142857, 0.7714285714285715, 0.785...  0.762857  (0, 2, 4, 11, 12, 17, 19, 27, 29, 36, 40, 42, ...  0.051412      0.04      0.02\n",
       "24  (0, 2, 4, 11, 12, 17, 19, 27, 29, 36, 40, 42, ...  [0.7285714285714285, 0.7285714285714285, 0.714...      0.76  (0, 2, 4, 11, 12, 17, 19, 27, 29, 36, 40, 42, ...  0.073812  0.057428  0.028714\n",
       "25  (0, 2, 4, 7, 11, 12, 17, 19, 27, 29, 36, 40, 4...  [0.7285714285714285, 0.6571428571428571, 0.714...  0.737143  (0, 2, 4, 7, 11, 12, 17, 19, 27, 29, 36, 40, 4...  0.068308  0.053146  0.026573\n",
       "26  (0, 2, 4, 7, 11, 12, 17, 19, 27, 29, 36, 40, 4...  [0.6857142857142857, 0.7571428571428571, 0.785...  0.751429  (0, 2, 4, 7, 11, 12, 17, 19, 27, 29, 36, 40, 4...  0.068308  0.053146  0.026573\n",
       "27  (0, 2, 4, 7, 9, 11, 12, 17, 19, 27, 29, 36, 40...  [0.6571428571428571, 0.6285714285714286, 0.785...  0.722857  (0, 2, 4, 7, 9, 11, 12, 17, 19, 27, 29, 36, 40...  0.085808  0.066762  0.033381\n",
       "28  (0, 2, 4, 7, 9, 11, 12, 17, 19, 27, 29, 36, 40...  [0.6428571428571429, 0.6, 0.8142857142857143, ...  0.708571  (0, 2, 4, 7, 9, 11, 12, 17, 19, 27, 29, 36, 40...  0.099626  0.077512  0.038756\n",
       "29  (0, 2, 4, 7, 9, 11, 12, 17, 19, 27, 29, 36, 40...  [0.6714285714285714, 0.6857142857142857, 0.8, ...      0.72  (0, 2, 4, 7, 9, 11, 12, 17, 19, 27, 29, 36, 40...  0.064238   0.04998   0.02499\n",
       "30  (0, 2, 4, 7, 9, 11, 12, 17, 19, 27, 29, 36, 40...  [0.7142857142857143, 0.6, 0.8142857142857143, ...  0.714286  (0, 2, 4, 7, 9, 11, 12, 17, 19, 27, 29, 36, 40...  0.096462  0.075051  0.037526"
      ]
     },
     "execution_count": 12,
     "metadata": {},
     "output_type": "execute_result"
    }
   ],
   "source": [
    "metric_dict = sfs1.get_metric_dict(confidence_interval=0.95)\n",
    "df_metrics = pd.DataFrame.from_dict(metric_dict).T\n",
    "df_metrics.tail(10)"
   ]
  },
  {
   "cell_type": "code",
   "execution_count": 20,
   "metadata": {},
   "outputs": [
    {
     "data": {
      "text/plain": [
       "Index(['var_1', 'var_3', 'var_5', 'var_8', 'var_10', 'var_12', 'var_13', 'var_18', 'var_20', 'var_28', 'var_30', 'var_37', 'var_41', 'var_43', 'var_45', 'var_50', 'var_51', 'var_53', 'var_60', 'var_66', 'var_69', 'var_74', 'var_80', 'var_81', 'var_84', 'var_85', 'var_87', 'var_92', 'var_93', 'var_96'], dtype='object')"
      ]
     },
     "execution_count": 20,
     "metadata": {},
     "output_type": "execute_result"
    }
   ],
   "source": [
    "\n",
    "df.columns[:-1][list(sfs1.k_feature_idx_)]"
   ]
  },
  {
   "cell_type": "code",
   "execution_count": 21,
   "metadata": {},
   "outputs": [],
   "source": [
    "# Reducing Dataset based on SFS\n",
    "\n",
    "X_train_select = sfs1.transform(X_train_sc)\n",
    "X_test_select = sfs1.transform(X_test_sc)"
   ]
  },
  {
   "cell_type": "code",
   "execution_count": 23,
   "metadata": {},
   "outputs": [
    {
     "name": "stdout",
     "output_type": "stream",
     "text": [
      "Training accuracy: 100.0\n",
      "Test accuracy: 53.333333333333336\n"
     ]
    }
   ],
   "source": [
    "# Second iteration\n",
    "\n",
    "model.fit(X_train_select, y_train)\n",
    "print('Training accuracy:', np.mean(model.predict(X_train_select) == y_train)*100)\n",
    "print('Test accuracy:', np.mean(model.predict(X_test_select) == y_test)*100)"
   ]
  },
  {
   "cell_type": "code",
   "execution_count": null,
   "metadata": {},
   "outputs": [],
   "source": [
    "# Overfitting sign but increased in test accuracy"
   ]
  },
  {
   "cell_type": "code",
   "execution_count": 25,
   "metadata": {},
   "outputs": [
    {
     "data": {
      "image/png": "[encoded data removed]",
      "text/plain": [
       "<Figure size 432x288 with 1 Axes>"
      ]
     },
     "metadata": {
      "needs_background": "light"
     },
     "output_type": "display_data"
    }
   ],
   "source": [
    "# Plot a PCA \n",
    "\n",
    "# Ho many components do we need \n",
    "from sklearn.decomposition import PCA\n",
    "pca = PCA()\n",
    "\n",
    "X_train_pca = pca.fit_transform(X_train_select)\n",
    "X_test_pca = pca.fit_transform(X_test_select)\n",
    "\n",
    "exp_var_pca = pca.explained_variance_ratio_\n",
    "\n",
    "cum_sum_eigenvalues = np.cumsum(exp_var_pca)\n",
    "\n",
    "plt.bar(range(0,len(exp_var_pca)), exp_var_pca, alpha=0.5, align='center', label='Individual explained variance')\n",
    "plt.step(range(0,len(cum_sum_eigenvalues)), cum_sum_eigenvalues, where='mid',label='Cumulative explained variance')\n",
    "plt.ylabel('Explained variance ratio')\n",
    "plt.xlabel('Principal component index')\n",
    "plt.legend(loc='best')\n",
    "plt.tight_layout()\n",
    "plt.grid()\n",
    "plt.show()"
   ]
  },
  {
   "cell_type": "code",
   "execution_count": 26,
   "metadata": {},
   "outputs": [
    {
     "name": "stdout",
     "output_type": "stream",
     "text": [
      "Training accuracy: 100.0\n",
      "Test accuracy: 48.0\n"
     ]
    }
   ],
   "source": [
    "# Third iteration with PCA\n",
    "# According to PCA we can explain 80% of the variance with 17 principal components\n",
    "pca_17 = PCA(n_components=17)\n",
    "\n",
    "X_train_pca_17 = pca_17.fit_transform(X_train_select)\n",
    "X_test_pca_17 = pca_17.fit_transform(X_test_select)\n",
    "model.fit(X_train_pca_17, y_train)\n",
    "print('Training accuracy:', np.mean(model.predict(X_train_pca_17) == y_train)*100)\n",
    "print('Test accuracy:', np.mean(model.predict(X_test_pca_17) == y_test)*100)"
   ]
  },
  {
   "cell_type": "code",
   "execution_count": 35,
   "metadata": {},
   "outputs": [],
   "source": [
    "# Overfitting and still signs of overfitting\n",
    "\n",
    "# Algorithm Selection Via Cross validation \n",
    "\n",
    "\n",
    "from sklearn.model_selection import GridSearchCV\n",
    "from sklearn.model_selection import train_test_split\n",
    "from sklearn.model_selection import StratifiedKFold\n",
    "from sklearn.model_selection import cross_val_score\n",
    "\n",
    "from sklearn.preprocessing import StandardScaler\n",
    "from sklearn.linear_model import LogisticRegression\n",
    "from sklearn.neighbors import KNeighborsClassifier\n",
    "from sklearn.tree import DecisionTreeClassifier\n",
    "from sklearn.ensemble import RandomForestClassifier\n",
    "from sklearn.svm import SVC\n",
    "import lightgbm as lgbm\n",
    "\n",
    "\n",
    "# Initializing Classifiers\n",
    "clf1 = LogisticRegression(random_state=1,)\n",
    "clf2 = KNeighborsClassifier()\n",
    "clf3 = lgbm.LGBMClassifier(random_state=1) #DecisionTreeClassifier(random_state=1)\n",
    "clf4 = SVC(random_state=1)\n",
    "clf5 = RandomForestClassifier(random_state=1)\n",
    "\n",
    "parameter_grid1 = [{'penalty': ['l2'],\n",
    "                'C': np.power(10., np.arange(-4, 4))}]\n",
    "\n",
    "parameter_grid2 = [{'n_neighbors': list(range(1, 10)),\n",
    "                'p': [1, 2]}]\n",
    "\n",
    "parameter_grid3 = [ { \n",
    "                'learning_rate': [0.05],\n",
    "                'n_estimators': [400,500,600,700,800,900,1000],\n",
    "                'reg_alpha' : (1,1.2),\n",
    "                'reg_lambda' : (1,1.2,1.4)\n",
    "                }]\n",
    "\n",
    "parameter_grid4 = [{'kernel': ['rbf'],\n",
    "                'C': np.power(10., np.arange(-4, 4)),\n",
    "                'gamma': np.power(10., np.arange(-5, 0))},\n",
    "               {'kernel': ['linear'],\n",
    "                'C': np.power(10., np.arange(-4, 4))}]\n",
    "\n",
    "parameter_grid5 = [{'n_estimators': [10, 100, 500, 1000, 10000]}]"
   ]
  },
  {
   "cell_type": "code",
   "execution_count": 36,
   "metadata": {},
   "outputs": [],
   "source": [
    "# Setting up multiple GridSearchCV objects, 1 for each algorithm\n",
    "gridcvs = {}\n",
    "inner_cv = StratifiedKFold(n_splits=2, shuffle=True, random_state=1)\n",
    "\n",
    "for pgrid, est, name in zip((parameter_grid1,\n",
    "                             parameter_grid2, \n",
    "                             parameter_grid3,\n",
    "                            parameter_grid4, \n",
    "                             parameter_grid5),\n",
    "                             \n",
    "                            (clf1, clf2, clf3, clf4, clf5),\n",
    "                            ('Logistic Regression', 'KNeighborsClassifier', 'LGBM', 'SCV', 'RandomForest')):\n",
    "    gcv = GridSearchCV(estimator=est,\n",
    "                       param_grid=pgrid,\n",
    "                       scoring='accuracy',\n",
    "                       n_jobs=1, \n",
    "                       cv=inner_cv,\n",
    "                       verbose=0,\n",
    "                       refit=True)\n",
    "    gridcvs[name] = gcv"
   ]
  },
  {
   "cell_type": "code",
   "execution_count": 37,
   "metadata": {},
   "outputs": [
    {
     "name": "stdout",
     "output_type": "stream",
     "text": [
      "KNeighborsClassifier | outer ACC 66.00% +/- 4.28\n",
      "LGBM    | outer ACC 64.57% +/- 8.05\n",
      "Logistic Regression | outer ACC 46.29% +/- 4.30\n",
      "RandomForest | outer ACC 54.57% +/- 6.22\n",
      "SCV     | outer ACC 68.86% +/- 4.55\n"
     ]
    }
   ],
   "source": [
    "outer_cv = StratifiedKFold(n_splits=5, shuffle=True, random_state=1)\n",
    "\n",
    "\n",
    "for name, gs_est in sorted(gridcvs.items()):\n",
    "    nested_score = cross_val_score(gs_est, \n",
    "                                   X=X_train_select, \n",
    "                                   y=y_train, \n",
    "                                   cv=outer_cv,\n",
    "                                   n_jobs=1) \n",
    "    print(f'{name:<7} | outer ACC {100*nested_score.mean():.2f}% +/- {100*nested_score.std():.2f}')"
   ]
  },
  {
   "cell_type": "code",
   "execution_count": 38,
   "metadata": {},
   "outputs": [
    {
     "name": "stdout",
     "output_type": "stream",
     "text": [
      "Fitting 2 folds for each of 48 candidates, totalling 96 fits\n",
      "Best CV accuracy: 60.00%\n",
      "Best parameters: {'C': 1000.0, 'gamma': 0.001, 'kernel': 'rbf'}\n"
     ]
    }
   ],
   "source": [
    "# Based on Nested  nested cross validation we see that SCV performs the best\n",
    "# Now we select the best hp on the whole trainin set\n",
    "\n",
    "gcv_model_select = GridSearchCV(estimator=clf4,\n",
    "                                param_grid=parameter_grid4,\n",
    "                                scoring='accuracy',\n",
    "                                n_jobs=1,\n",
    "                                cv=inner_cv,\n",
    "                                verbose=1,\n",
    "                                refit=True)\n",
    "\n",
    "gcv_model_select.fit(X_train_select, y_train)\n",
    "print('Best CV accuracy: %.2f%%' % (gcv_model_select.best_score_*100))\n",
    "print('Best parameters:', gcv_model_select.best_params_)"
   ]
  },
  {
   "cell_type": "code",
   "execution_count": 40,
   "metadata": {},
   "outputs": [
    {
     "name": "stdout",
     "output_type": "stream",
     "text": [
      "Nested CV Accuracy 60.00% (average over k-fold CV test folds)\n",
      "Best Parameters: {'C': 1000.0, 'gamma': 0.001, 'kernel': 'rbf'}\n",
      "Training Accuracy 98.29%\n",
      "Test Accuracy 72.67%\n"
     ]
    }
   ],
   "source": [
    "from sklearn.metrics import accuracy_score\n",
    "best_model = gcv_model_select.best_estimator_\n",
    "\n",
    "train_acc = accuracy_score(y_true=y_train, y_pred=best_model.predict(X_train_select))\n",
    "test_acc = accuracy_score(y_true=y_test, y_pred=best_model.predict(X_test_select))\n",
    "\n",
    "print(f'Nested CV Accuracy {100 * gcv_model_select.best_score_:.2f}% (average over k-fold CV test folds)')\n",
    "print(f'Best Parameters: {gcv_model_select.best_params_}')\n",
    "\n",
    "print(f'Training Accuracy {100 * train_acc:.2f}%')\n",
    "print(f'Test Accuracy {100 * test_acc:.2f}%')"
   ]
  },
  {
   "cell_type": "code",
   "execution_count": 51,
   "metadata": {},
   "outputs": [],
   "source": [
    "from sklearn.model_selection import validation_curve\n",
    "\n",
    "\n",
    "param_range = [0.001, 0.01, 0.1, 1.0, 10.0, 100.0] #np.power(10., np.arange(-4, 4))\n",
    "train_scores, test_scores = validation_curve(\n",
    "                estimator=clf4, \n",
    "                X=X_train_select, \n",
    "                y=y_train, \n",
    "                param_name='C', \n",
    "                param_range = param_range,\n",
    "                cv=5)\n",
    "\n",
    "train_mean = np.mean(train_scores, axis=1)\n",
    "train_std = np.std(train_scores, axis=1)\n",
    "test_mean = np.mean(test_scores, axis=1)\n",
    "test_std = np.std(test_scores, axis=1)\n",
    "\n"
   ]
  },
  {
   "cell_type": "code",
   "execution_count": 53,
   "metadata": {},
   "outputs": [
    {
     "data": {
      "image/png": "[encoded data removed]",
      "text/plain": [
       "<Figure size 432x288 with 1 Axes>"
      ]
     },
     "metadata": {
      "needs_background": "light"
     },
     "output_type": "display_data"
    }
   ],
   "source": [
    "plt.plot(param_range, train_mean, \n",
    "         color='blue', marker='o', \n",
    "         markersize=5, label='Training accuracy')\n",
    "\n",
    "plt.fill_between(param_range, train_mean + train_std,\n",
    "                 train_mean - train_std, alpha=0.15,\n",
    "                 color='blue')\n",
    "\n",
    "plt.plot(param_range, test_mean, \n",
    "         color='green', linestyle='--', \n",
    "         marker='s', markersize=5, \n",
    "         label='Validation accuracy')\n",
    "\n",
    "plt.fill_between(param_range, \n",
    "                 test_mean + test_std,\n",
    "                 test_mean - test_std, \n",
    "                 alpha=0.15, color='green')\n",
    "\n",
    "plt.grid()\n",
    "#plt.xscale('log')\n",
    "plt.legend(loc='lower right')\n",
    "plt.xlabel('Parameter C')\n",
    "plt.ylabel('Accuracy')\n",
    "#plt.ylim([0.8, 1.0])\n",
    "#plt.tight_layout()\n",
    "# plt.savefig('figures/06_06.png', dpi=300)\n",
    "plt.show()"
   ]
  },
  {
   "cell_type": "code",
   "execution_count": 50,
   "metadata": {},
   "outputs": [],
   "source": [
    "import matplotlib.pyplot as plt\n",
    "from sklearn.model_selection import learning_curve\n",
    "\n",
    "\n",
    "train_sizes, train_scores, test_scores =\\\n",
    "                learning_curve(estimator=clf4,\n",
    "                               X=X_train_select,\n",
    "                               y=y_train,\n",
    "                               train_sizes=np.linspace(0.1, 1.0, 10),\n",
    "                               cv=10,\n",
    "                               n_jobs=1)\n",
    "\n",
    "train_mean = np.mean(train_scores, axis=1)\n",
    "train_std = np.std(train_scores, axis=1)\n",
    "test_mean = np.mean(test_scores, axis=1)\n",
    "test_std = np.std(test_scores, axis=1)\n"
   ]
  },
  {
   "cell_type": "code",
   "execution_count": 49,
   "metadata": {},
   "outputs": [
    {
     "data": {
      "image/png": "[encoded data removed]",
      "text/plain": [
       "<Figure size 432x288 with 1 Axes>"
      ]
     },
     "metadata": {
      "needs_background": "light"
     },
     "output_type": "display_data"
    }
   ],
   "source": [
    "plt.plot(train_sizes, train_mean,\n",
    "         color='blue', marker='o',\n",
    "         markersize=5, label='Training accuracy')\n",
    "\n",
    "plt.fill_between(train_sizes,\n",
    "                 train_mean + train_std,\n",
    "                 train_mean - train_std,\n",
    "                 alpha=0.15, color='blue')\n",
    "\n",
    "plt.plot(train_sizes, test_mean,\n",
    "         color='green', linestyle='--',\n",
    "         marker='s', markersize=5,\n",
    "         label='Validation accuracy')\n",
    "\n",
    "plt.fill_between(train_sizes,\n",
    "                 test_mean + test_std,\n",
    "                 test_mean - test_std,\n",
    "                 alpha=0.15, color='green')\n",
    "plt.grid()\n",
    "plt.xlabel('Number of training examples')\n",
    "plt.ylabel('Accuracy')\n",
    "plt.legend(loc='lower right')\n",
    "#plt.ylim([0.8, 1.03])\n",
    "#plt.tight_layout()\n",
    "# plt.savefig('figures/06_05.png', dpi=300)\n",
    "plt.show()"
   ]
  },
  {
   "cell_type": "markdown",
   "metadata": {},
   "source": [
    "The graph in the upper-right shows a model that suffers from high variance, which is indicated by the large gap between the training and cross-validation accuracy. To address this problem of overfitting, we can collect more training data, reduce the complexity of the model, or increase the regularization parameter, for example.\n",
    "  [ 202 ]\n",
    " \n",
    "Chapter 6\n",
    "For unregularized models, it can also help to decrease the number of features via feature selection (Chapter 4, Building Good Training Datasets – Data Preprocessing)\n",
    "or feature extraction (Chapter 5, Compressing Data via Dimensionality Reduction) to decrease the degree of overfitting. While collecting more training data usually tends to decrease the chance of overfitting, it may not always help, for example, if the training data is extremely noisy or the model is already very close to optimal."
   ]
  },
  {
   "cell_type": "code",
   "execution_count": null,
   "metadata": {},
   "outputs": [],
   "source": [
    "# Utilizaremos dos técnicas para mejorar el problema de overfitting. \n",
    "# Dado que el modelo ganador es un SVC. Vamos a incrementar el parametro de regularización\n",
    "# Tambien vamos a reducir la complejidad del dataset aun más, quedando con solo los 5 atributos seleccionados por el método wrpaper SFS\n",
    "# No vamos hacer Feature extraction con PCA por que hemos visto que la contrinución individual de los componentes es muy baja \n"
   ]
  },
  {
   "cell_type": "code",
   "execution_count": 56,
   "metadata": {},
   "outputs": [
    {
     "name": "stdout",
     "output_type": "stream",
     "text": [
      "Training accuracy: 99.42857142857143\n",
      "Test accuracy: 54.666666666666664\n"
     ]
    }
   ],
   "source": [
    "# Segunda iteración \n",
    "\n",
    "\n",
    "model_2it = SVC() #Como baseline empezamos con el SVC\n",
    "\n",
    "model_2it.fit(X_train_sc, y_train)\n",
    "\n",
    "print('Training accuracy:', np.mean(model_2it.predict(X_train_sc) == y_train)*100)\n",
    "print('Test accuracy:', np.mean(model_2it.predict(X_test_sc) == y_test)*100)"
   ]
  },
  {
   "cell_type": "code",
   "execution_count": 58,
   "metadata": {},
   "outputs": [],
   "source": [
    "sfs2 = SFS(model_2it, \n",
    "           k_features=5, # reducimos el dataset a 5 atributos\n",
    "           forward=True, \n",
    "           floating=False, \n",
    "           verbose=0,\n",
    "           scoring='accuracy',\n",
    "           cv=5)\n",
    "\n",
    "\n",
    "sfs2 = sfs2.fit(X_train_sc, y_train)"
   ]
  },
  {
   "cell_type": "code",
   "execution_count": 59,
   "metadata": {},
   "outputs": [],
   "source": [
    "# Reducing Dataset based on SFS\n",
    "\n",
    "X_train_select_2it = sfs2.transform(X_train_sc)\n",
    "X_test_select_2it = sfs2.transform(X_test_sc)"
   ]
  },
  {
   "cell_type": "code",
   "execution_count": null,
   "metadata": {},
   "outputs": [],
   "source": [
    "# Dado que el GridSearch que hicimos ya nos dio los mejores parametros no es necesario hacer uno de nuevo.\n",
    "# Solo vamos a incrementar el parametro C y utilizar los que nos dio GScv :\n",
    "# Best parameters: {'C': 1000.0, 'gamma': 0.001, 'kernel': 'rbf'}"
   ]
  },
  {
   "cell_type": "code",
   "execution_count": 65,
   "metadata": {},
   "outputs": [
    {
     "name": "stdout",
     "output_type": "stream",
     "text": [
      "Training Accuracy 64.29%\n",
      "Test Accuracy 46.00%\n"
     ]
    }
   ],
   "source": [
    "model_2it_best = SVC(C=10000, gamma= 0.001, kernel='rbf') # Solo incrementamos parametro C y nos quedamos con los best de GridScv\n",
    "\n",
    "model_2it_best.fit(X_train_select_2it, y_train)\n",
    "train_acc_2it = accuracy_score(y_true=y_train, y_pred=model_2it_best.predict(X_train_select_2it))\n",
    "test_acc_2it = accuracy_score(y_true=y_test, y_pred=model_2it_best.predict(X_test_select_2it))\n",
    "\n",
    "\n",
    "print(f'Training Accuracy {100 * train_acc_2it:.2f}%')\n",
    "print(f'Test Accuracy {100 * test_acc_2it:.2f}%')"
   ]
  },
  {
   "cell_type": "code",
   "execution_count": 66,
   "metadata": {},
   "outputs": [],
   "source": [
    "# learning curve\n",
    "\n",
    "train_sizes, train_scores, test_scores =\\\n",
    "                learning_curve(estimator=model_2it_best,\n",
    "                               X=X_train_select_2it,\n",
    "                               y=y_train,\n",
    "                               train_sizes=np.linspace(0.1, 1.0, 10),\n",
    "                               cv=10,\n",
    "                               n_jobs=1)\n",
    "\n",
    "train_mean = np.mean(train_scores, axis=1)\n",
    "train_std = np.std(train_scores, axis=1)\n",
    "test_mean = np.mean(test_scores, axis=1)\n",
    "test_std = np.std(test_scores, axis=1)"
   ]
  },
  {
   "cell_type": "code",
   "execution_count": 67,
   "metadata": {},
   "outputs": [
    {
     "data": {
      "image/png": "[encoded data removed]",
      "text/plain": [
       "<Figure size 432x288 with 1 Axes>"
      ]
     },
     "metadata": {
      "needs_background": "light"
     },
     "output_type": "display_data"
    }
   ],
   "source": [
    "plt.plot(train_sizes, train_mean,\n",
    "         color='blue', marker='o',\n",
    "         markersize=5, label='Training accuracy')\n",
    "\n",
    "plt.fill_between(train_sizes,\n",
    "                 train_mean + train_std,\n",
    "                 train_mean - train_std,\n",
    "                 alpha=0.15, color='blue')\n",
    "\n",
    "plt.plot(train_sizes, test_mean,\n",
    "         color='green', linestyle='--',\n",
    "         marker='s', markersize=5,\n",
    "         label='Validation accuracy')\n",
    "\n",
    "plt.fill_between(train_sizes,\n",
    "                 test_mean + test_std,\n",
    "                 test_mean - test_std,\n",
    "                 alpha=0.15, color='green')\n",
    "plt.grid()\n",
    "plt.xlabel('Number of training examples')\n",
    "plt.ylabel('Accuracy')\n",
    "plt.legend(loc='lower right')\n",
    "#plt.ylim([0.8, 1.03])\n",
    "#plt.tight_layout()\n",
    "# plt.savefig('figures/06_05.png', dpi=300)\n",
    "plt.show()"
   ]
  },
  {
   "cell_type": "code",
   "execution_count": null,
   "metadata": {},
   "outputs": [],
   "source": []
  }
 ],
 "metadata": {
  "interpreter": {
   "hash": "f7593dc81c4c5f89d7c3d0d53e1886cfdbb332bb25fabe84412f35200ebaf024"
  },
  "kernelspec": {
   "display_name": "Python 3.9.10 ('cluster-t')",
   "language": "python",
   "name": "python3"
  },
  "language_info": {
   "codemirror_mode": {
    "name": "ipython",
    "version": 3
   },
   "file_extension": ".py",
   "mimetype": "text/x-python",
   "name": "python",
   "nbconvert_exporter": "python",
   "pygments_lexer": "ipython3",
   "version": "3.9.10"
  },
  "orig_nbformat": 4
 },
 "nbformat": 4,
 "nbformat_minor": 2
}
