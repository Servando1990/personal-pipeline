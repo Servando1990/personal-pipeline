{
 "cells": [
  {
   "cell_type": "markdown",
   "metadata": {},
   "source": [
    "# Deeporvillage Take Home Test\n",
    "\n",
    "## Contents\n",
    "\n",
    "### Exploratory data analysis\n",
    "\n",
    "### Feature engineering\n",
    "\n",
    "### Training\n",
    "\n",
    "### Model diagnostics\n"
   ]
  },
  {
   "cell_type": "code",
   "execution_count": 1,
   "metadata": {},
   "outputs": [],
   "source": [
    "# Read necessary libraries, import data\n",
    "\n",
    "import pandas as pd\n",
    "import numpy as np\n",
    "import seaborn as sns\n",
    "import matplotlib.pyplot as plt\n",
    "pd.set_option('display.max_rows', 10000)\n",
    "pd.set_option('display.max_columns', 10000)\n",
    "pd.set_option('display.width', 100000000)\n",
    "import warnings\n",
    "df = pd.read_excel('input_ml_data.xlsx', sheet_name='E Comm')"
   ]
  },
  {
   "cell_type": "code",
   "execution_count": 2,
   "metadata": {},
   "outputs": [
    {
     "data": {
      "text/html": [
       "<div>\n",
       "<style scoped>\n",
       "    .dataframe tbody tr th:only-of-type {\n",
       "        vertical-align: middle;\n",
       "    }\n",
       "\n",
       "    .dataframe tbody tr th {\n",
       "        vertical-align: top;\n",
       "    }\n",
       "\n",
       "    .dataframe thead th {\n",
       "        text-align: right;\n",
       "    }\n",
       "</style>\n",
       "<table border=\"1\" class=\"dataframe\">\n",
       "  <thead>\n",
       "    <tr style=\"text-align: right;\">\n",
       "      <th></th>\n",
       "      <th>CustomerID</th>\n",
       "      <th>Churn</th>\n",
       "      <th>Tenure</th>\n",
       "      <th>PreferredLoginDevice</th>\n",
       "      <th>CityTier</th>\n",
       "      <th>WarehouseToHome</th>\n",
       "      <th>PreferredPaymentMode</th>\n",
       "      <th>Gender</th>\n",
       "      <th>HourSpendOnApp</th>\n",
       "      <th>NumberOfDeviceRegistered</th>\n",
       "      <th>PreferedOrderCat</th>\n",
       "      <th>SatisfactionScore</th>\n",
       "      <th>MaritalStatus</th>\n",
       "      <th>NumberOfAddress</th>\n",
       "      <th>Complain</th>\n",
       "      <th>OrderAmountHikeFromlastYear</th>\n",
       "      <th>CouponUsed</th>\n",
       "      <th>OrderCount</th>\n",
       "      <th>DaySinceLastOrder</th>\n",
       "      <th>CashbackAmount</th>\n",
       "    </tr>\n",
       "  </thead>\n",
       "  <tbody>\n",
       "    <tr>\n",
       "      <th>0</th>\n",
       "      <td>50001</td>\n",
       "      <td>1</td>\n",
       "      <td>4.0</td>\n",
       "      <td>Mobile Phone</td>\n",
       "      <td>3</td>\n",
       "      <td>6.0</td>\n",
       "      <td>Debit Card</td>\n",
       "      <td>Female</td>\n",
       "      <td>3.0</td>\n",
       "      <td>3</td>\n",
       "      <td>Laptop &amp; Accessory</td>\n",
       "      <td>2</td>\n",
       "      <td>Single</td>\n",
       "      <td>9</td>\n",
       "      <td>1</td>\n",
       "      <td>11.0</td>\n",
       "      <td>1.0</td>\n",
       "      <td>1.0</td>\n",
       "      <td>5.0</td>\n",
       "      <td>159.93</td>\n",
       "    </tr>\n",
       "    <tr>\n",
       "      <th>1</th>\n",
       "      <td>50002</td>\n",
       "      <td>1</td>\n",
       "      <td>NaN</td>\n",
       "      <td>Phone</td>\n",
       "      <td>1</td>\n",
       "      <td>8.0</td>\n",
       "      <td>UPI</td>\n",
       "      <td>Male</td>\n",
       "      <td>3.0</td>\n",
       "      <td>4</td>\n",
       "      <td>Mobile</td>\n",
       "      <td>3</td>\n",
       "      <td>Single</td>\n",
       "      <td>7</td>\n",
       "      <td>1</td>\n",
       "      <td>15.0</td>\n",
       "      <td>0.0</td>\n",
       "      <td>1.0</td>\n",
       "      <td>0.0</td>\n",
       "      <td>120.90</td>\n",
       "    </tr>\n",
       "    <tr>\n",
       "      <th>2</th>\n",
       "      <td>50003</td>\n",
       "      <td>1</td>\n",
       "      <td>NaN</td>\n",
       "      <td>Phone</td>\n",
       "      <td>1</td>\n",
       "      <td>30.0</td>\n",
       "      <td>Debit Card</td>\n",
       "      <td>Male</td>\n",
       "      <td>2.0</td>\n",
       "      <td>4</td>\n",
       "      <td>Mobile</td>\n",
       "      <td>3</td>\n",
       "      <td>Single</td>\n",
       "      <td>6</td>\n",
       "      <td>1</td>\n",
       "      <td>14.0</td>\n",
       "      <td>0.0</td>\n",
       "      <td>1.0</td>\n",
       "      <td>3.0</td>\n",
       "      <td>120.28</td>\n",
       "    </tr>\n",
       "    <tr>\n",
       "      <th>3</th>\n",
       "      <td>50004</td>\n",
       "      <td>1</td>\n",
       "      <td>0.0</td>\n",
       "      <td>Phone</td>\n",
       "      <td>3</td>\n",
       "      <td>15.0</td>\n",
       "      <td>Debit Card</td>\n",
       "      <td>Male</td>\n",
       "      <td>2.0</td>\n",
       "      <td>4</td>\n",
       "      <td>Laptop &amp; Accessory</td>\n",
       "      <td>5</td>\n",
       "      <td>Single</td>\n",
       "      <td>8</td>\n",
       "      <td>0</td>\n",
       "      <td>23.0</td>\n",
       "      <td>0.0</td>\n",
       "      <td>1.0</td>\n",
       "      <td>3.0</td>\n",
       "      <td>134.07</td>\n",
       "    </tr>\n",
       "    <tr>\n",
       "      <th>4</th>\n",
       "      <td>50005</td>\n",
       "      <td>1</td>\n",
       "      <td>0.0</td>\n",
       "      <td>Phone</td>\n",
       "      <td>1</td>\n",
       "      <td>12.0</td>\n",
       "      <td>CC</td>\n",
       "      <td>Male</td>\n",
       "      <td>NaN</td>\n",
       "      <td>3</td>\n",
       "      <td>Mobile</td>\n",
       "      <td>5</td>\n",
       "      <td>Single</td>\n",
       "      <td>3</td>\n",
       "      <td>0</td>\n",
       "      <td>11.0</td>\n",
       "      <td>1.0</td>\n",
       "      <td>1.0</td>\n",
       "      <td>3.0</td>\n",
       "      <td>129.60</td>\n",
       "    </tr>\n",
       "  </tbody>\n",
       "</table>\n",
       "</div>"
      ],
      "text/plain": [
       "   CustomerID  Churn  Tenure PreferredLoginDevice  CityTier  WarehouseToHome PreferredPaymentMode  Gender  HourSpendOnApp  NumberOfDeviceRegistered    PreferedOrderCat  SatisfactionScore MaritalStatus  NumberOfAddress  Complain  OrderAmountHikeFromlastYear  CouponUsed  OrderCount  DaySinceLastOrder  CashbackAmount\n",
       "0       50001      1     4.0         Mobile Phone         3              6.0           Debit Card  Female             3.0                         3  Laptop & Accessory                  2        Single                9         1                         11.0         1.0         1.0                5.0          159.93\n",
       "1       50002      1     NaN                Phone         1              8.0                  UPI    Male             3.0                         4              Mobile                  3        Single                7         1                         15.0         0.0         1.0                0.0          120.90\n",
       "2       50003      1     NaN                Phone         1             30.0           Debit Card    Male             2.0                         4              Mobile                  3        Single                6         1                         14.0         0.0         1.0                3.0          120.28\n",
       "3       50004      1     0.0                Phone         3             15.0           Debit Card    Male             2.0                         4  Laptop & Accessory                  5        Single                8         0                         23.0         0.0         1.0                3.0          134.07\n",
       "4       50005      1     0.0                Phone         1             12.0                   CC    Male             NaN                         3              Mobile                  5        Single                3         0                         11.0         1.0         1.0                3.0          129.60"
      ]
     },
     "execution_count": 2,
     "metadata": {},
     "output_type": "execute_result"
    }
   ],
   "source": [
    "df.head()"
   ]
  },
  {
   "cell_type": "code",
   "execution_count": 3,
   "metadata": {},
   "outputs": [],
   "source": [
    "# Perform necessary changes in data types\n",
    "df.CustomerID = df.CustomerID.astype(object)\n",
    "df.CityTier = df.CityTier.astype(object)"
   ]
  },
  {
   "cell_type": "code",
   "execution_count": 4,
   "metadata": {},
   "outputs": [],
   "source": [
    "# import necessary modules\n",
    "from src.preprocessing import feature_engineering, eda \n",
    "\n",
    "fe = feature_engineering.Preprocess()\n",
    "eda = eda.Eda()\n"
   ]
  },
  {
   "cell_type": "code",
   "execution_count": 5,
   "metadata": {},
   "outputs": [
    {
     "data": {
      "text/plain": [
       "<AxesSubplot:title={'center':'Churn distribution'}, ylabel='Frequency'>"
      ]
     },
     "execution_count": 5,
     "metadata": {},
     "output_type": "execute_result"
    },
    {
     "data": {
      "image/png": "[encoded data removed]",
      "text/plain": [
       "<Figure size 432x288 with 1 Axes>"
      ]
     },
     "metadata": {
      "needs_background": "light"
     },
     "output_type": "display_data"
    }
   ],
   "source": [
    "## Exploratory Data Analysis\n",
    "\n",
    "## Plot target label distribution\n",
    "\n",
    "df.Churn.plot.hist(title = 'Churn distribution')"
   ]
  },
  {
   "cell_type": "markdown",
   "metadata": {},
   "source": [
    "`Observations`: \n",
    "\n",
    "- There is a clear imbalance problem\n",
    "- Majority class is 0 (no churn)\n",
    "- There are severak techniques to deal with these cases \n"
   ]
  },
  {
   "cell_type": "code",
   "execution_count": 6,
   "metadata": {},
   "outputs": [
    {
     "name": "stdout",
     "output_type": "stream",
     "text": [
      "Your selected dataframe has 20 columns.\n",
      "There are 7 columns that have missing values.\n"
     ]
    },
    {
     "data": {
      "text/html": [
       "<div>\n",
       "<style scoped>\n",
       "    .dataframe tbody tr th:only-of-type {\n",
       "        vertical-align: middle;\n",
       "    }\n",
       "\n",
       "    .dataframe tbody tr th {\n",
       "        vertical-align: top;\n",
       "    }\n",
       "\n",
       "    .dataframe thead th {\n",
       "        text-align: right;\n",
       "    }\n",
       "</style>\n",
       "<table border=\"1\" class=\"dataframe\">\n",
       "  <thead>\n",
       "    <tr style=\"text-align: right;\">\n",
       "      <th></th>\n",
       "      <th>Missing Values</th>\n",
       "      <th>% of Total Values</th>\n",
       "    </tr>\n",
       "  </thead>\n",
       "  <tbody>\n",
       "    <tr>\n",
       "      <th>DaySinceLastOrder</th>\n",
       "      <td>307</td>\n",
       "      <td>5.5</td>\n",
       "    </tr>\n",
       "    <tr>\n",
       "      <th>OrderAmountHikeFromlastYear</th>\n",
       "      <td>265</td>\n",
       "      <td>4.7</td>\n",
       "    </tr>\n",
       "    <tr>\n",
       "      <th>Tenure</th>\n",
       "      <td>264</td>\n",
       "      <td>4.7</td>\n",
       "    </tr>\n",
       "    <tr>\n",
       "      <th>OrderCount</th>\n",
       "      <td>258</td>\n",
       "      <td>4.6</td>\n",
       "    </tr>\n",
       "    <tr>\n",
       "      <th>CouponUsed</th>\n",
       "      <td>256</td>\n",
       "      <td>4.5</td>\n",
       "    </tr>\n",
       "    <tr>\n",
       "      <th>HourSpendOnApp</th>\n",
       "      <td>255</td>\n",
       "      <td>4.5</td>\n",
       "    </tr>\n",
       "    <tr>\n",
       "      <th>WarehouseToHome</th>\n",
       "      <td>251</td>\n",
       "      <td>4.5</td>\n",
       "    </tr>\n",
       "  </tbody>\n",
       "</table>\n",
       "</div>"
      ],
      "text/plain": [
       "                             Missing Values  % of Total Values\n",
       "DaySinceLastOrder                       307                5.5\n",
       "OrderAmountHikeFromlastYear             265                4.7\n",
       "Tenure                                  264                4.7\n",
       "OrderCount                              258                4.6\n",
       "CouponUsed                              256                4.5\n",
       "HourSpendOnApp                          255                4.5\n",
       "WarehouseToHome                         251                4.5"
      ]
     },
     "execution_count": 6,
     "metadata": {},
     "output_type": "execute_result"
    }
   ],
   "source": [
    "# Look for missing values\n",
    "eda.missing_values_table(df)\n",
    "\n",
    "#hard for the model to learn "
   ]
  },
  {
   "cell_type": "markdown",
   "metadata": {},
   "source": [
    "`Observations`: \n",
    "\n",
    "- DaySinceLastOrder has the most missing values with a 5.5 % out of total values\n",
    "- All 7 features are arounf 40% of missing values out total\n"
   ]
  },
  {
   "cell_type": "code",
   "execution_count": 1,
   "metadata": {},
   "outputs": [
    {
     "ename": "NameError",
     "evalue": "name 'df' is not defined",
     "output_type": "error",
     "traceback": [
      "\u001b[0;31m---------------------------------------------------------------------------\u001b[0m",
      "\u001b[0;31mNameError\u001b[0m                                 Traceback (most recent call last)",
      "\u001b[1;32m/Users/servandodavidtorresgarcia/Servando/personal-pipeline/deport_ml_v2.ipynb Celda 10\u001b[0m in \u001b[0;36m<cell line: 1>\u001b[0;34m()\u001b[0m\n\u001b[0;32m----> <a href='vscode-notebook-cell:/Users/servandodavidtorresgarcia/Servando/personal-pipeline/deport_ml_v2.ipynb#X62sZmlsZQ%3D%3D?line=0'>1</a>\u001b[0m df\u001b[39m.\u001b[39mDaySinceLastOrder\u001b[39m.\u001b[39mplot()\n",
      "\u001b[0;31mNameError\u001b[0m: name 'df' is not defined"
     ]
    }
   ],
   "source": [
    "df.DaySinceLastOrder.plot()"
   ]
  },
  {
   "cell_type": "code",
   "execution_count": 7,
   "metadata": {},
   "outputs": [
    {
     "data": {
      "text/plain": [
       "<AxesSubplot:title={'center':'Ternure relationship with Churn '}, xlabel='Tenure', ylabel='Density'>"
      ]
     },
     "execution_count": 7,
     "metadata": {},
     "output_type": "execute_result"
    },
    {
     "data": {
      "image/png": "[encoded data removed]",
      "text/plain": [
       "<Figure size 432x288 with 1 Axes>"
      ]
     },
     "metadata": {
      "needs_background": "light"
     },
     "output_type": "display_data"
    }
   ],
   "source": [
    "#  Plot some distributions\n",
    "\n",
    "plt.title('Ternure relationship with Churn ')\n",
    "sns.kdeplot(df['Tenure'] , hue= df['Churn'])"
   ]
  },
  {
   "cell_type": "markdown",
   "metadata": {},
   "source": [
    "\n",
    "`Observations`: \n",
    "\n",
    "- Plot makes sense. Overall customers have a ternure from 0- 10\n",
    "- Churned customers have the lowest tenure from 0-5"
   ]
  },
  {
   "cell_type": "code",
   "execution_count": 16,
   "metadata": {},
   "outputs": [
    {
     "name": "stderr",
     "output_type": "stream",
     "text": [
      "/Users/servandodavidtorresgarcia/Servando/personal-pipeline/src/preprocessing/eda.py:112: UserWarning: Matplotlib is currently using module://matplotlib_inline.backend_inline, which is a non-GUI backend, so cannot show the figure.\n",
      "  fig.show()\n"
     ]
    },
    {
     "data": {
      "image/png": "[encoded data removed]",
      "text/plain": [
       "<Figure size 864x432 with 2 Axes>"
      ]
     },
     "metadata": {
      "needs_background": "light"
     },
     "output_type": "display_data"
    }
   ],
   "source": [
    "eda.plot_cat_feature(df, 'PreferredLoginDevice', 'Churn')"
   ]
  },
  {
   "cell_type": "markdown",
   "metadata": {},
   "source": [
    "\n",
    "`Observations`: \n",
    "\n",
    "- There is two categories than could potentially be together, 'Mobile Phone' and 'Phone'\n",
    "- Both Phone and Computer devices are related with churn with 20%"
   ]
  },
  {
   "cell_type": "code",
   "execution_count": 17,
   "metadata": {},
   "outputs": [
    {
     "data": {
      "text/plain": [
       "<AxesSubplot:title={'center':'Distance to home relationship with Churn '}, xlabel='WarehouseToHome', ylabel='Density'>"
      ]
     },
     "execution_count": 17,
     "metadata": {},
     "output_type": "execute_result"
    },
    {
     "data": {
      "image/png": "[encoded data removed]",
      "text/plain": [
       "<Figure size 432x288 with 1 Axes>"
      ]
     },
     "metadata": {
      "needs_background": "light"
     },
     "output_type": "display_data"
    }
   ],
   "source": [
    "\n",
    "\n",
    "plt.title('Distance to home relationship with Churn ')\n",
    "sns.kdeplot(df['WarehouseToHome'] , hue= df['Churn'])\n"
   ]
  },
  {
   "cell_type": "code",
   "execution_count": 18,
   "metadata": {},
   "outputs": [
    {
     "name": "stderr",
     "output_type": "stream",
     "text": [
      "/Users/servandodavidtorresgarcia/Servando/personal-pipeline/src/preprocessing/eda.py:112: UserWarning: Matplotlib is currently using module://matplotlib_inline.backend_inline, which is a non-GUI backend, so cannot show the figure.\n",
      "  fig.show()\n"
     ]
    },
    {
     "data": {
      "image/png": "[encoded data removed]",
      "text/plain": [
       "<Figure size 864x432 with 2 Axes>"
      ]
     },
     "metadata": {
      "needs_background": "light"
     },
     "output_type": "display_data"
    }
   ],
   "source": [
    "eda.plot_cat_feature(df, 'Gender', 'Churn')"
   ]
  },
  {
   "cell_type": "markdown",
   "metadata": {},
   "source": [
    "`Observations`: \n",
    "\n",
    "- Plot shows there is no discrimination on gender with relationship with Churn"
   ]
  },
  {
   "cell_type": "code",
   "execution_count": 31,
   "metadata": {},
   "outputs": [
    {
     "data": {
      "text/plain": [
       "<AxesSubplot:title={'center':'SatisfactionScore relationship with Churn '}, xlabel='SatisfactionScore', ylabel='Density'>"
      ]
     },
     "execution_count": 31,
     "metadata": {},
     "output_type": "execute_result"
    },
    {
     "data": {
      "image/png": "[encoded data removed]",
      "text/plain": [
       "<Figure size 432x288 with 1 Axes>"
      ]
     },
     "metadata": {
      "needs_background": "light"
     },
     "output_type": "display_data"
    }
   ],
   "source": [
    "\n",
    "\n",
    "plt.title('SatisfactionScore relationship with Churn ')\n",
    "sns.kdeplot(df['SatisfactionScore'] , hue= df['Churn'])\n"
   ]
  },
  {
   "cell_type": "markdown",
   "metadata": {},
   "source": [
    "`Observations`: \n",
    "\n",
    "- This is counterintuitive. Assuming 5 is the completley satisfied. There are some picks in churn on customers with score 3 and 5"
   ]
  },
  {
   "cell_type": "code",
   "execution_count": 33,
   "metadata": {},
   "outputs": [
    {
     "data": {
      "text/plain": [
       "<AxesSubplot:title={'center':'DaySinceLastOrder relationship with Churn '}, xlabel='DaySinceLastOrder', ylabel='Density'>"
      ]
     },
     "execution_count": 33,
     "metadata": {},
     "output_type": "execute_result"
    },
    {
     "data": {
      "image/png": "[encoded data removed]",
      "text/plain": [
       "<Figure size 432x288 with 1 Axes>"
      ]
     },
     "metadata": {
      "needs_background": "light"
     },
     "output_type": "display_data"
    }
   ],
   "source": [
    "\n",
    "plt.title('DaySinceLastOrder relationship with Churn ')\n",
    "sns.kdeplot(df['DaySinceLastOrder'] , hue= df['Churn'])"
   ]
  },
  {
   "cell_type": "markdown",
   "metadata": {},
   "source": [
    "`Observations`: \n",
    "\n",
    "- Plot shows there is a slight pick in churn custoemrs between 0 and 1 days and 9 days since last order"
   ]
  },
  {
   "cell_type": "code",
   "execution_count": 34,
   "metadata": {},
   "outputs": [
    {
     "data": {
      "text/plain": [
       "<AxesSubplot:title={'center':'CashbackAmount relationship with Churn '}, xlabel='CashbackAmount', ylabel='Density'>"
      ]
     },
     "execution_count": 34,
     "metadata": {},
     "output_type": "execute_result"
    },
    {
     "data": {
      "image/png": "[encoded data removed]",
      "text/plain": [
       "<Figure size 432x288 with 1 Axes>"
      ]
     },
     "metadata": {
      "needs_background": "light"
     },
     "output_type": "display_data"
    }
   ],
   "source": [
    "plt.title('CashbackAmount relationship with Churn ')\n",
    "sns.kdeplot(df['CashbackAmount'] , hue= df['Churn'])\n",
    "\t"
   ]
  },
  {
   "cell_type": "markdown",
   "metadata": {},
   "source": [
    "`Observations`: \n",
    "\n",
    "- Customers with around 150 cash being returned are apparantly showing churn"
   ]
  },
  {
   "cell_type": "code",
   "execution_count": 40,
   "metadata": {},
   "outputs": [
    {
     "name": "stdout",
     "output_type": "stream",
     "text": [
      "Most Positive Correlations:\n",
      " CityTier                    0.084703\n",
      "SatisfactionScore           0.105481\n",
      "NumberOfDeviceRegistered    0.107939\n",
      "Complain                    0.250188\n",
      "Churn                       1.000000\n",
      "Name: Churn, dtype: float64\n",
      "\n",
      "Most Negative Correlations:\n",
      " Tenure                        -0.349408\n",
      "DaySinceLastOrder             -0.160757\n",
      "CashbackAmount                -0.154118\n",
      "OrderCount                    -0.028697\n",
      "OrderAmountHikeFromlastYear   -0.010058\n",
      "Name: Churn, dtype: float64\n"
     ]
    }
   ],
   "source": [
    "# Check correlations with customer\n",
    "\n",
    "correlations = df.corr()['Churn'].sort_values()\n",
    "\n",
    "# Display correlations\n",
    "print('Most Positive Correlations:\\n', correlations.tail(5))\n",
    "print('\\nMost Negative Correlations:\\n', correlations.head(5))"
   ]
  },
  {
   "cell_type": "code",
   "execution_count": 8,
   "metadata": {},
   "outputs": [],
   "source": [
    "# Feature engineeing\n",
    "fe_df = df.copy()\n",
    "\n",
    "fe_df['Ternure_mean'] = fe_df.groupby('CustomerID')['Tenure'].transform(\"mean\")  #check one value per customer?\n",
    "fe_df['WarehouseToHome_mean'] = fe_df.groupby('CustomerID')['WarehouseToHome'].transform(\"mean\") # check\n",
    "fe_df['HourSpendOnApp_mean'] = fe_df.groupby('CustomerID')['HourSpendOnApp'].transform(\"mean\") #check\n",
    "fe_df['SatisfactionScore_mean'] = fe_df.groupby('CustomerID')['SatisfactionScore'].transform(\"mean\") #check\n",
    "fe_df['Complain_mean'] = fe_df.groupby('CustomerID')['Complain'].transform(\"mean\")#check\n",
    "\n",
    "fe_df['Ternure_mean_gender'] = fe_df.groupby('Gender')['Tenure'].transform(\"mean\")\n",
    "fe_df['WarehouseToHome_mean_gender'] = fe_df.groupby('Gender')['WarehouseToHome'].transform(\"mean\")\n",
    "fe_df['HourSpendOnApp_mean_gender'] = fe_df.groupby('Gender')['HourSpendOnApp'].transform(\"mean\")\n",
    "fe_df['SatisfactionScore_mean_gender'] = fe_df.groupby('Gender')['SatisfactionScore'].transform(\"mean\")\n",
    "fe_df['Complain_mean_gender'] = fe_df.groupby('Gender')['Complain'].transform(\"mean\")\n",
    "\n",
    "# example hourspenonapp / tenure\n",
    "# second come up with another"
   ]
  },
  {
   "cell_type": "code",
   "execution_count": 43,
   "metadata": {},
   "outputs": [
    {
     "data": {
      "text/html": [
       "<div>\n",
       "<style scoped>\n",
       "    .dataframe tbody tr th:only-of-type {\n",
       "        vertical-align: middle;\n",
       "    }\n",
       "\n",
       "    .dataframe tbody tr th {\n",
       "        vertical-align: top;\n",
       "    }\n",
       "\n",
       "    .dataframe thead th {\n",
       "        text-align: right;\n",
       "    }\n",
       "</style>\n",
       "<table border=\"1\" class=\"dataframe\">\n",
       "  <thead>\n",
       "    <tr style=\"text-align: right;\">\n",
       "      <th></th>\n",
       "      <th>CustomerID</th>\n",
       "      <th>Churn</th>\n",
       "      <th>Tenure</th>\n",
       "      <th>PreferredLoginDevice</th>\n",
       "      <th>CityTier</th>\n",
       "      <th>WarehouseToHome</th>\n",
       "      <th>PreferredPaymentMode</th>\n",
       "      <th>Gender</th>\n",
       "      <th>HourSpendOnApp</th>\n",
       "      <th>NumberOfDeviceRegistered</th>\n",
       "      <th>PreferedOrderCat</th>\n",
       "      <th>SatisfactionScore</th>\n",
       "      <th>MaritalStatus</th>\n",
       "      <th>NumberOfAddress</th>\n",
       "      <th>Complain</th>\n",
       "      <th>OrderAmountHikeFromlastYear</th>\n",
       "      <th>CouponUsed</th>\n",
       "      <th>OrderCount</th>\n",
       "      <th>DaySinceLastOrder</th>\n",
       "      <th>CashbackAmount</th>\n",
       "      <th>Ternure_mean</th>\n",
       "      <th>WarehouseToHome_mean</th>\n",
       "      <th>HourSpendOnApp_mean</th>\n",
       "      <th>SatisfactionScore_mean</th>\n",
       "      <th>Complain_mean</th>\n",
       "      <th>Ternure_mean_gender</th>\n",
       "      <th>WarehouseToHome_mean_gender</th>\n",
       "      <th>HourSpendOnApp_mean_gender</th>\n",
       "      <th>SatisfactionScore_mean_gender</th>\n",
       "      <th>Complain_mean_gender</th>\n",
       "    </tr>\n",
       "  </thead>\n",
       "  <tbody>\n",
       "    <tr>\n",
       "      <th>0</th>\n",
       "      <td>50001</td>\n",
       "      <td>1</td>\n",
       "      <td>4.0</td>\n",
       "      <td>Mobile Phone</td>\n",
       "      <td>3</td>\n",
       "      <td>6.0</td>\n",
       "      <td>Debit Card</td>\n",
       "      <td>Female</td>\n",
       "      <td>3.0</td>\n",
       "      <td>3</td>\n",
       "      <td>Laptop &amp; Accessory</td>\n",
       "      <td>2</td>\n",
       "      <td>Single</td>\n",
       "      <td>9</td>\n",
       "      <td>1</td>\n",
       "      <td>11.0</td>\n",
       "      <td>1.0</td>\n",
       "      <td>1.0</td>\n",
       "      <td>5.0</td>\n",
       "      <td>159.93</td>\n",
       "      <td>4.0</td>\n",
       "      <td>6.0</td>\n",
       "      <td>3.0</td>\n",
       "      <td>2.0</td>\n",
       "      <td>1.0</td>\n",
       "      <td>10.682643</td>\n",
       "      <td>15.651000</td>\n",
       "      <td>2.948076</td>\n",
       "      <td>3.126447</td>\n",
       "      <td>0.307213</td>\n",
       "    </tr>\n",
       "    <tr>\n",
       "      <th>1</th>\n",
       "      <td>50002</td>\n",
       "      <td>1</td>\n",
       "      <td>NaN</td>\n",
       "      <td>Phone</td>\n",
       "      <td>1</td>\n",
       "      <td>8.0</td>\n",
       "      <td>UPI</td>\n",
       "      <td>Male</td>\n",
       "      <td>3.0</td>\n",
       "      <td>4</td>\n",
       "      <td>Mobile</td>\n",
       "      <td>3</td>\n",
       "      <td>Single</td>\n",
       "      <td>7</td>\n",
       "      <td>1</td>\n",
       "      <td>15.0</td>\n",
       "      <td>0.0</td>\n",
       "      <td>1.0</td>\n",
       "      <td>0.0</td>\n",
       "      <td>120.90</td>\n",
       "      <td>NaN</td>\n",
       "      <td>8.0</td>\n",
       "      <td>3.0</td>\n",
       "      <td>3.0</td>\n",
       "      <td>1.0</td>\n",
       "      <td>9.860740</td>\n",
       "      <td>15.632508</td>\n",
       "      <td>2.920447</td>\n",
       "      <td>3.027187</td>\n",
       "      <td>0.270095</td>\n",
       "    </tr>\n",
       "    <tr>\n",
       "      <th>2</th>\n",
       "      <td>50003</td>\n",
       "      <td>1</td>\n",
       "      <td>NaN</td>\n",
       "      <td>Phone</td>\n",
       "      <td>1</td>\n",
       "      <td>30.0</td>\n",
       "      <td>Debit Card</td>\n",
       "      <td>Male</td>\n",
       "      <td>2.0</td>\n",
       "      <td>4</td>\n",
       "      <td>Mobile</td>\n",
       "      <td>3</td>\n",
       "      <td>Single</td>\n",
       "      <td>6</td>\n",
       "      <td>1</td>\n",
       "      <td>14.0</td>\n",
       "      <td>0.0</td>\n",
       "      <td>1.0</td>\n",
       "      <td>3.0</td>\n",
       "      <td>120.28</td>\n",
       "      <td>NaN</td>\n",
       "      <td>30.0</td>\n",
       "      <td>2.0</td>\n",
       "      <td>3.0</td>\n",
       "      <td>1.0</td>\n",
       "      <td>9.860740</td>\n",
       "      <td>15.632508</td>\n",
       "      <td>2.920447</td>\n",
       "      <td>3.027187</td>\n",
       "      <td>0.270095</td>\n",
       "    </tr>\n",
       "    <tr>\n",
       "      <th>3</th>\n",
       "      <td>50004</td>\n",
       "      <td>1</td>\n",
       "      <td>0.0</td>\n",
       "      <td>Phone</td>\n",
       "      <td>3</td>\n",
       "      <td>15.0</td>\n",
       "      <td>Debit Card</td>\n",
       "      <td>Male</td>\n",
       "      <td>2.0</td>\n",
       "      <td>4</td>\n",
       "      <td>Laptop &amp; Accessory</td>\n",
       "      <td>5</td>\n",
       "      <td>Single</td>\n",
       "      <td>8</td>\n",
       "      <td>0</td>\n",
       "      <td>23.0</td>\n",
       "      <td>0.0</td>\n",
       "      <td>1.0</td>\n",
       "      <td>3.0</td>\n",
       "      <td>134.07</td>\n",
       "      <td>0.0</td>\n",
       "      <td>15.0</td>\n",
       "      <td>2.0</td>\n",
       "      <td>5.0</td>\n",
       "      <td>0.0</td>\n",
       "      <td>9.860740</td>\n",
       "      <td>15.632508</td>\n",
       "      <td>2.920447</td>\n",
       "      <td>3.027187</td>\n",
       "      <td>0.270095</td>\n",
       "    </tr>\n",
       "    <tr>\n",
       "      <th>4</th>\n",
       "      <td>50005</td>\n",
       "      <td>1</td>\n",
       "      <td>0.0</td>\n",
       "      <td>Phone</td>\n",
       "      <td>1</td>\n",
       "      <td>12.0</td>\n",
       "      <td>CC</td>\n",
       "      <td>Male</td>\n",
       "      <td>NaN</td>\n",
       "      <td>3</td>\n",
       "      <td>Mobile</td>\n",
       "      <td>5</td>\n",
       "      <td>Single</td>\n",
       "      <td>3</td>\n",
       "      <td>0</td>\n",
       "      <td>11.0</td>\n",
       "      <td>1.0</td>\n",
       "      <td>1.0</td>\n",
       "      <td>3.0</td>\n",
       "      <td>129.60</td>\n",
       "      <td>0.0</td>\n",
       "      <td>12.0</td>\n",
       "      <td>NaN</td>\n",
       "      <td>5.0</td>\n",
       "      <td>0.0</td>\n",
       "      <td>9.860740</td>\n",
       "      <td>15.632508</td>\n",
       "      <td>2.920447</td>\n",
       "      <td>3.027187</td>\n",
       "      <td>0.270095</td>\n",
       "    </tr>\n",
       "  </tbody>\n",
       "</table>\n",
       "</div>"
      ],
      "text/plain": [
       "  CustomerID  Churn  Tenure PreferredLoginDevice CityTier  WarehouseToHome PreferredPaymentMode  Gender  HourSpendOnApp  NumberOfDeviceRegistered    PreferedOrderCat  SatisfactionScore MaritalStatus  NumberOfAddress  Complain  OrderAmountHikeFromlastYear  CouponUsed  OrderCount  DaySinceLastOrder  CashbackAmount  Ternure_mean  WarehouseToHome_mean  HourSpendOnApp_mean  SatisfactionScore_mean  Complain_mean  Ternure_mean_gender  WarehouseToHome_mean_gender  HourSpendOnApp_mean_gender  SatisfactionScore_mean_gender  Complain_mean_gender\n",
       "0      50001      1     4.0         Mobile Phone        3              6.0           Debit Card  Female             3.0                         3  Laptop & Accessory                  2        Single                9         1                         11.0         1.0         1.0                5.0          159.93           4.0                   6.0                  3.0                     2.0            1.0            10.682643                    15.651000                    2.948076                       3.126447              0.307213\n",
       "1      50002      1     NaN                Phone        1              8.0                  UPI    Male             3.0                         4              Mobile                  3        Single                7         1                         15.0         0.0         1.0                0.0          120.90           NaN                   8.0                  3.0                     3.0            1.0             9.860740                    15.632508                    2.920447                       3.027187              0.270095\n",
       "2      50003      1     NaN                Phone        1             30.0           Debit Card    Male             2.0                         4              Mobile                  3        Single                6         1                         14.0         0.0         1.0                3.0          120.28           NaN                  30.0                  2.0                     3.0            1.0             9.860740                    15.632508                    2.920447                       3.027187              0.270095\n",
       "3      50004      1     0.0                Phone        3             15.0           Debit Card    Male             2.0                         4  Laptop & Accessory                  5        Single                8         0                         23.0         0.0         1.0                3.0          134.07           0.0                  15.0                  2.0                     5.0            0.0             9.860740                    15.632508                    2.920447                       3.027187              0.270095\n",
       "4      50005      1     0.0                Phone        1             12.0                   CC    Male             NaN                         3              Mobile                  5        Single                3         0                         11.0         1.0         1.0                3.0          129.60           0.0                  12.0                  NaN                     5.0            0.0             9.860740                    15.632508                    2.920447                       3.027187              0.270095"
      ]
     },
     "execution_count": 43,
     "metadata": {},
     "output_type": "execute_result"
    }
   ],
   "source": [
    "fe_df.head()"
   ]
  },
  {
   "cell_type": "markdown",
   "metadata": {},
   "source": [
    "`Observations`: \n",
    "\n",
    "- As basic feature engineering I wanted to do some agregations on data that I think could be interesting\n",
    "- I use only mean as metric to evalaute this aggreations. \n",
    "- I find interesting to see mean value grouped by custoemr on different variables such as hours spend on app\n",
    "- I onrder to undeerstand customers. I think it makes sense to do some profiling and understand customers with a very basic variable like gender"
   ]
  },
  {
   "cell_type": "code",
   "execution_count": 9,
   "metadata": {},
   "outputs": [
    {
     "data": {
      "text/plain": [
       "CustomerID              5630\n",
       "PreferredPaymentMode       7\n",
       "PreferedOrderCat           6\n",
       "PreferredLoginDevice       3\n",
       "CityTier                   3\n",
       "MaritalStatus              3\n",
       "Gender                     2\n",
       "dtype: int64"
      ]
     },
     "execution_count": 9,
     "metadata": {},
     "output_type": "execute_result"
    }
   ],
   "source": [
    "features = fe_df.copy()\n",
    "features.select_dtypes(['object', 'category']).apply(pd.Series.nunique, axis = 0).sort_values(ascending=False)"
   ]
  },
  {
   "cell_type": "code",
   "execution_count": 13,
   "metadata": {},
   "outputs": [
    {
     "data": {
      "text/html": [
       "<div>\n",
       "<style scoped>\n",
       "    .dataframe tbody tr th:only-of-type {\n",
       "        vertical-align: middle;\n",
       "    }\n",
       "\n",
       "    .dataframe tbody tr th {\n",
       "        vertical-align: top;\n",
       "    }\n",
       "\n",
       "    .dataframe thead th {\n",
       "        text-align: right;\n",
       "    }\n",
       "</style>\n",
       "<table border=\"1\" class=\"dataframe\">\n",
       "  <thead>\n",
       "    <tr style=\"text-align: right;\">\n",
       "      <th></th>\n",
       "      <th>CustomerID</th>\n",
       "      <th>Churn</th>\n",
       "      <th>Tenure</th>\n",
       "      <th>PreferredLoginDevice</th>\n",
       "      <th>CityTier</th>\n",
       "      <th>WarehouseToHome</th>\n",
       "      <th>PreferredPaymentMode</th>\n",
       "      <th>Gender</th>\n",
       "      <th>HourSpendOnApp</th>\n",
       "      <th>NumberOfDeviceRegistered</th>\n",
       "      <th>PreferedOrderCat</th>\n",
       "      <th>SatisfactionScore</th>\n",
       "      <th>MaritalStatus</th>\n",
       "      <th>NumberOfAddress</th>\n",
       "      <th>Complain</th>\n",
       "      <th>OrderAmountHikeFromlastYear</th>\n",
       "      <th>CouponUsed</th>\n",
       "      <th>OrderCount</th>\n",
       "      <th>DaySinceLastOrder</th>\n",
       "      <th>CashbackAmount</th>\n",
       "      <th>Ternure_mean</th>\n",
       "      <th>WarehouseToHome_mean</th>\n",
       "      <th>HourSpendOnApp_mean</th>\n",
       "      <th>SatisfactionScore_mean</th>\n",
       "      <th>Complain_mean</th>\n",
       "      <th>Ternure_mean_gender</th>\n",
       "      <th>WarehouseToHome_mean_gender</th>\n",
       "      <th>HourSpendOnApp_mean_gender</th>\n",
       "      <th>SatisfactionScore_mean_gender</th>\n",
       "      <th>Complain_mean_gender</th>\n",
       "    </tr>\n",
       "  </thead>\n",
       "  <tbody>\n",
       "    <tr>\n",
       "      <th>0</th>\n",
       "      <td>50001</td>\n",
       "      <td>1</td>\n",
       "      <td>4.0</td>\n",
       "      <td>Mobile Phone</td>\n",
       "      <td>3</td>\n",
       "      <td>6.0</td>\n",
       "      <td>Debit Card</td>\n",
       "      <td>Female</td>\n",
       "      <td>3.0</td>\n",
       "      <td>3</td>\n",
       "      <td>Laptop &amp; Accessory</td>\n",
       "      <td>2</td>\n",
       "      <td>Single</td>\n",
       "      <td>9</td>\n",
       "      <td>1</td>\n",
       "      <td>11.0</td>\n",
       "      <td>1.0</td>\n",
       "      <td>1.0</td>\n",
       "      <td>5.0</td>\n",
       "      <td>159.93</td>\n",
       "      <td>4.0</td>\n",
       "      <td>6.0</td>\n",
       "      <td>3.0</td>\n",
       "      <td>2.0</td>\n",
       "      <td>1.0</td>\n",
       "      <td>10.682643</td>\n",
       "      <td>15.651000</td>\n",
       "      <td>2.948076</td>\n",
       "      <td>3.126447</td>\n",
       "      <td>0.307213</td>\n",
       "    </tr>\n",
       "    <tr>\n",
       "      <th>1</th>\n",
       "      <td>50002</td>\n",
       "      <td>1</td>\n",
       "      <td>NaN</td>\n",
       "      <td>Phone</td>\n",
       "      <td>1</td>\n",
       "      <td>8.0</td>\n",
       "      <td>UPI</td>\n",
       "      <td>Male</td>\n",
       "      <td>3.0</td>\n",
       "      <td>4</td>\n",
       "      <td>Mobile</td>\n",
       "      <td>3</td>\n",
       "      <td>Single</td>\n",
       "      <td>7</td>\n",
       "      <td>1</td>\n",
       "      <td>15.0</td>\n",
       "      <td>0.0</td>\n",
       "      <td>1.0</td>\n",
       "      <td>0.0</td>\n",
       "      <td>120.90</td>\n",
       "      <td>NaN</td>\n",
       "      <td>8.0</td>\n",
       "      <td>3.0</td>\n",
       "      <td>3.0</td>\n",
       "      <td>1.0</td>\n",
       "      <td>9.860740</td>\n",
       "      <td>15.632508</td>\n",
       "      <td>2.920447</td>\n",
       "      <td>3.027187</td>\n",
       "      <td>0.270095</td>\n",
       "    </tr>\n",
       "    <tr>\n",
       "      <th>2</th>\n",
       "      <td>50003</td>\n",
       "      <td>1</td>\n",
       "      <td>NaN</td>\n",
       "      <td>Phone</td>\n",
       "      <td>1</td>\n",
       "      <td>30.0</td>\n",
       "      <td>Debit Card</td>\n",
       "      <td>Male</td>\n",
       "      <td>2.0</td>\n",
       "      <td>4</td>\n",
       "      <td>Mobile</td>\n",
       "      <td>3</td>\n",
       "      <td>Single</td>\n",
       "      <td>6</td>\n",
       "      <td>1</td>\n",
       "      <td>14.0</td>\n",
       "      <td>0.0</td>\n",
       "      <td>1.0</td>\n",
       "      <td>3.0</td>\n",
       "      <td>120.28</td>\n",
       "      <td>NaN</td>\n",
       "      <td>30.0</td>\n",
       "      <td>2.0</td>\n",
       "      <td>3.0</td>\n",
       "      <td>1.0</td>\n",
       "      <td>9.860740</td>\n",
       "      <td>15.632508</td>\n",
       "      <td>2.920447</td>\n",
       "      <td>3.027187</td>\n",
       "      <td>0.270095</td>\n",
       "    </tr>\n",
       "    <tr>\n",
       "      <th>3</th>\n",
       "      <td>50004</td>\n",
       "      <td>1</td>\n",
       "      <td>0.0</td>\n",
       "      <td>Phone</td>\n",
       "      <td>3</td>\n",
       "      <td>15.0</td>\n",
       "      <td>Debit Card</td>\n",
       "      <td>Male</td>\n",
       "      <td>2.0</td>\n",
       "      <td>4</td>\n",
       "      <td>Laptop &amp; Accessory</td>\n",
       "      <td>5</td>\n",
       "      <td>Single</td>\n",
       "      <td>8</td>\n",
       "      <td>0</td>\n",
       "      <td>23.0</td>\n",
       "      <td>0.0</td>\n",
       "      <td>1.0</td>\n",
       "      <td>3.0</td>\n",
       "      <td>134.07</td>\n",
       "      <td>0.0</td>\n",
       "      <td>15.0</td>\n",
       "      <td>2.0</td>\n",
       "      <td>5.0</td>\n",
       "      <td>0.0</td>\n",
       "      <td>9.860740</td>\n",
       "      <td>15.632508</td>\n",
       "      <td>2.920447</td>\n",
       "      <td>3.027187</td>\n",
       "      <td>0.270095</td>\n",
       "    </tr>\n",
       "    <tr>\n",
       "      <th>4</th>\n",
       "      <td>50005</td>\n",
       "      <td>1</td>\n",
       "      <td>0.0</td>\n",
       "      <td>Phone</td>\n",
       "      <td>1</td>\n",
       "      <td>12.0</td>\n",
       "      <td>CC</td>\n",
       "      <td>Male</td>\n",
       "      <td>NaN</td>\n",
       "      <td>3</td>\n",
       "      <td>Mobile</td>\n",
       "      <td>5</td>\n",
       "      <td>Single</td>\n",
       "      <td>3</td>\n",
       "      <td>0</td>\n",
       "      <td>11.0</td>\n",
       "      <td>1.0</td>\n",
       "      <td>1.0</td>\n",
       "      <td>3.0</td>\n",
       "      <td>129.60</td>\n",
       "      <td>0.0</td>\n",
       "      <td>12.0</td>\n",
       "      <td>NaN</td>\n",
       "      <td>5.0</td>\n",
       "      <td>0.0</td>\n",
       "      <td>9.860740</td>\n",
       "      <td>15.632508</td>\n",
       "      <td>2.920447</td>\n",
       "      <td>3.027187</td>\n",
       "      <td>0.270095</td>\n",
       "    </tr>\n",
       "  </tbody>\n",
       "</table>\n",
       "</div>"
      ],
      "text/plain": [
       "  CustomerID  Churn  Tenure PreferredLoginDevice CityTier  WarehouseToHome PreferredPaymentMode  Gender  HourSpendOnApp  NumberOfDeviceRegistered    PreferedOrderCat  SatisfactionScore MaritalStatus  NumberOfAddress  Complain  OrderAmountHikeFromlastYear  CouponUsed  OrderCount  DaySinceLastOrder  CashbackAmount  Ternure_mean  WarehouseToHome_mean  HourSpendOnApp_mean  SatisfactionScore_mean  Complain_mean  Ternure_mean_gender  WarehouseToHome_mean_gender  HourSpendOnApp_mean_gender  SatisfactionScore_mean_gender  Complain_mean_gender\n",
       "0      50001      1     4.0         Mobile Phone        3              6.0           Debit Card  Female             3.0                         3  Laptop & Accessory                  2        Single                9         1                         11.0         1.0         1.0                5.0          159.93           4.0                   6.0                  3.0                     2.0            1.0            10.682643                    15.651000                    2.948076                       3.126447              0.307213\n",
       "1      50002      1     NaN                Phone        1              8.0                  UPI    Male             3.0                         4              Mobile                  3        Single                7         1                         15.0         0.0         1.0                0.0          120.90           NaN                   8.0                  3.0                     3.0            1.0             9.860740                    15.632508                    2.920447                       3.027187              0.270095\n",
       "2      50003      1     NaN                Phone        1             30.0           Debit Card    Male             2.0                         4              Mobile                  3        Single                6         1                         14.0         0.0         1.0                3.0          120.28           NaN                  30.0                  2.0                     3.0            1.0             9.860740                    15.632508                    2.920447                       3.027187              0.270095\n",
       "3      50004      1     0.0                Phone        3             15.0           Debit Card    Male             2.0                         4  Laptop & Accessory                  5        Single                8         0                         23.0         0.0         1.0                3.0          134.07           0.0                  15.0                  2.0                     5.0            0.0             9.860740                    15.632508                    2.920447                       3.027187              0.270095\n",
       "4      50005      1     0.0                Phone        1             12.0                   CC    Male             NaN                         3              Mobile                  5        Single                3         0                         11.0         1.0         1.0                3.0          129.60           0.0                  12.0                  NaN                     5.0            0.0             9.860740                    15.632508                    2.920447                       3.027187              0.270095"
      ]
     },
     "execution_count": 13,
     "metadata": {},
     "output_type": "execute_result"
    }
   ],
   "source": [
    "features.head()"
   ]
  },
  {
   "cell_type": "code",
   "execution_count": 14,
   "metadata": {},
   "outputs": [],
   "source": [
    "# Minor adjustmnest to  on cateogrical variaables\n",
    "\n",
    "features['PreferredLoginDevice'] = features.PreferredLoginDevice.str.replace('Mobile Phone', 'Phone') # assuming \n",
    "features['PreferedOrderCat'] = features.PreferedOrderCat.str.replace('Mobile Phone', 'Mobile')"
   ]
  },
  {
   "cell_type": "code",
   "execution_count": 19,
   "metadata": {},
   "outputs": [],
   "source": [
    "# Prepare dataset for training\n",
    "\n",
    "target = features.pop('Churn') \n",
    "features['Churn'] = target\n",
    "X = features.iloc[:, :-1]\n",
    "X.pop('CustomerID') # check weather they repeat. check for duplicates. drop duplicates\n",
    "# wich one is true if ther eare more \n",
    "y = features['Churn']\n"
   ]
  },
  {
   "cell_type": "code",
   "execution_count": 20,
   "metadata": {},
   "outputs": [],
   "source": [
    "# caategorical encoding values encoding\n",
    "\n",
    "X = pd.get_dummies(X) # standard"
   ]
  },
  {
   "cell_type": "code",
   "execution_count": 21,
   "metadata": {},
   "outputs": [],
   "source": [
    "from sklearn.impute import SimpleImputer\n",
    "imputer = SimpleImputer(missing_values=np.nan, strategy=\"mean\")  \n",
    "X[:] = imputer.fit_transform(X)\n",
    "# depends on th. type of the colum \n",
    "# trade off value points and gettig fake data "
   ]
  },
  {
   "cell_type": "code",
   "execution_count": 25,
   "metadata": {},
   "outputs": [
    {
     "name": "stdout",
     "output_type": "stream",
     "text": [
      "Original dataset shape Counter({0: 4682, 1: 948})\n",
      "RandomUnderSampler dataset shape Counter({0: 948, 1: 948})\n",
      "RandomOverSampler dataset shape Counter({1: 4682, 0: 4682})\n",
      "SMOTE dataset shape Counter({1: 4682, 0: 4682})\n"
     ]
    }
   ],
   "source": [
    "from imblearn.under_sampling import RandomUnderSampler\n",
    "from imblearn.over_sampling import RandomOverSampler, SMOTE\n",
    "from  collections import Counter\n",
    "\n",
    "rus = RandomUnderSampler(random_state=42, replacement=True)# fit predictor and target variable\n",
    "x_rus, y_rus = rus.fit_resample(X, y)\n",
    "\n",
    "\n",
    "\n",
    "ros = RandomOverSampler(random_state=42)\n",
    "\n",
    "# fit predictor and target variable \n",
    "x_ros, y_ros = ros.fit_resample(X, y)\n",
    "\n",
    "\n",
    "smote = SMOTE(random_state=42)\n",
    "\n",
    "x_smote, y_smote = smote.fit_resample(X, y )\n",
    "\n",
    "print('Original dataset shape', Counter(y))\n",
    "print('RandomUnderSampler dataset shape', Counter(y_rus))\n",
    "print('RandomOverSampler dataset shape', Counter(y_ros))\n",
    "print('SMOTE dataset shape', Counter(y_smote))\n",
    "\n"
   ]
  },
  {
   "cell_type": "markdown",
   "metadata": {},
   "source": [
    "`Observations`: \n",
    "\n",
    "- So far we have prepared the dataset for modeling\n",
    "- We choose mean imputation as our strategy to impute missing values  \n",
    "- One hot encoding for categorical variables, since we dont have high dimension on those\n",
    "- To deal with the imbalance class problem we will choose RadomUnderSampler since increasing values on the minority class can lead to overfitting. Although  Undersampling may lead to some problems since we do not posses sufficient data to be confident to reduce it"
   ]
  },
  {
   "cell_type": "code",
   "execution_count": 34,
   "metadata": {},
   "outputs": [],
   "source": [
    "# Set up baseline\n",
    "from numpy import mean\n",
    "from sklearn.tree import DecisionTreeClassifier\n",
    "from sklearn.ensemble import RandomForestClassifier\n",
    "from sklearn.model_selection import cross_val_score, RepeatedStratifiedKFold, train_test_split\n",
    "from imblearn.ensemble import BalancedRandomForestClassifier\n",
    "\n",
    "# Initialize baseline with fixed random_state\n",
    "#baseline_rus = RandomForestClassifier(random_state=1, class_weight = 'balanced')\n",
    "#balance_baseline = BalancedRandomForestClassifier(random_state=1, )\n",
    "baseline = RandomForestClassifier(random_state=1, class_weight = 'balanced')\n",
    "\n",
    "# train test split\n",
    "X_train, X_test, y_train, y_test = train_test_split(x_rus, y_rus, test_size=0.3, random_state=1)\n",
    "#X_train, X_test, y_train, y_test = train_test_split(X, y, test_size=0.3, random_state=1)\n"
   ]
  },
  {
   "cell_type": "code",
   "execution_count": null,
   "metadata": {},
   "outputs": [],
   "source": [
    "# Iteration with PCA\n",
    "\n",
    "# According to PCA we can explain 80% of the variance with 17 principal components\n",
    "pca = PCA(n_components=2)\n",
    "\n",
    "# Fit PCA to dataset \n",
    "X_train_pca_17 = pca_17.fit_transform(X_train_select)\n",
    "X_test_pca_17 = pca_17.fit_transform(X_test_select)\n",
    "\n",
    "# Fit baseline with 17 principal component dataset\n",
    "baseline.fit(X_train_pca_17, y_train)\n",
    "\n",
    "\n",
    "print(f'Baseline on SFS + reduced PCA Training Accuracy: {np.mean(baseline.predict(X_train_pca_17) == y_train)*100:.2f}% ')\n",
    "print(f'Baseline on SFS + reduced PCA Test Accuracy: {np.mean(baseline.predict(X_test_pca_17) == y_test)*100:.2f}% ')"
   ]
  },
  {
   "cell_type": "code",
   "execution_count": 36,
   "metadata": {},
   "outputs": [
    {
     "name": "stdout",
     "output_type": "stream",
     "text": [
      "Baseline Training Accuracy: 100.00% \n",
      "Baseline Test Accuracy: 53.95% \n",
      "Mean ROC AUC: 1.000\n"
     ]
    }
   ],
   "source": [
    "# Scailing data\n",
    "from sklearn.preprocessing import StandardScaler\n",
    "\n",
    "# Initialize  Standarization \n",
    "sc = StandardScaler()\n",
    "X_train_sc = sc.fit_transform(X_train)\n",
    "X_test_sc = sc.fit_transform(X_test)\n",
    "X_ros_sc = sc.fit_transform(x_ros)\n",
    "\n",
    "# PCA\n",
    "from sklearn.decomposition import PCA\n",
    "pca = PCA(n_components=2)\n",
    "\n",
    "# Fit PCA to dataset \n",
    "X_train_pca = pca.fit_transform(X_train_sc)\n",
    "X_test_pca = pca.fit_transform(X_test_sc)\n",
    "x_ros_pca = pca.fit_transform(x_ros)\n",
    "\n",
    "\n",
    "# Fitting model with data\n",
    "baseline.fit(X_train_pca, y_train)\n",
    "\n",
    "print(f'Baseline Training Accuracy: {np.mean(baseline.predict(X_train_pca) == y_train)*100:.2f}% ')\n",
    "print(f'Baseline Test Accuracy: {np.mean(baseline.predict(X_test_pca) == y_test)*100:.2f}% ')\n",
    "\n",
    "cv = RepeatedStratifiedKFold(n_splits=10, n_repeats=5, random_state=1)\n",
    "# evaluate model\n",
    "scores = cross_val_score(baseline, x_ros_pca, y_ros, scoring='roc_auc', cv=cv)\n",
    "# summarize performance\n",
    "print('Mean ROC AUC: %.3f' % mean(scores))"
   ]
  },
  {
   "cell_type": "code",
   "execution_count": 38,
   "metadata": {},
   "outputs": [
    {
     "data": {
      "text/plain": [
       "<sklearn.metrics._plot.confusion_matrix.ConfusionMatrixDisplay at 0x12a1055e0>"
      ]
     },
     "execution_count": 38,
     "metadata": {},
     "output_type": "execute_result"
    },
    {
     "data": {
      "image/png": "[encoded data removed]",
      "text/plain": [
       "<Figure size 432x288 with 2 Axes>"
      ]
     },
     "metadata": {
      "needs_background": "light"
     },
     "output_type": "display_data"
    }
   ],
   "source": [
    "from sklearn.metrics import confusion_matrix, ConfusionMatrixDisplay\n",
    "cm_rus = confusion_matrix(y_test,baseline.predict(X_test_pca))\n",
    "\n",
    "disp = ConfusionMatrixDisplay(confusion_matrix=cm_rus)\n",
    "disp.plot()"
   ]
  },
  {
   "cell_type": "code",
   "execution_count": 39,
   "metadata": {},
   "outputs": [],
   "source": [
    "# Model Diagnsotics \n",
    "\n",
    "from sklearn.model_selection import validation_curve\n",
    "\n",
    "\n",
    "num_estimators = [10,20,30,50,100,200,300,400]\n",
    "train_scores, test_scores = validation_curve(\n",
    "                estimator=baseline, \n",
    "                X=X_train_pca, \n",
    "                y=y_train, \n",
    "                param_name='n_estimators', \n",
    "                param_range = num_estimators,\n",
    "                scoring='roc_auc',\n",
    "                cv=10)\n",
    "\n",
    "train_mean = np.mean(train_scores, axis=1)\n",
    "train_std = np.std(train_scores, axis=1)\n",
    "test_mean = np.mean(test_scores, axis=1)\n",
    "test_std = np.std(test_scores, axis=1)"
   ]
  },
  {
   "cell_type": "code",
   "execution_count": 40,
   "metadata": {},
   "outputs": [
    {
     "data": {
      "image/png": "[encoded data removed]",
      "text/plain": [
       "<Figure size 432x288 with 1 Axes>"
      ]
     },
     "metadata": {
      "needs_background": "light"
     },
     "output_type": "display_data"
    }
   ],
   "source": [
    "plt.plot(num_estimators, train_mean, \n",
    "         color='blue', marker='o', \n",
    "         markersize=5, label='Training ROC AUC')\n",
    "\n",
    "plt.fill_between(num_estimators, train_mean + train_std,\n",
    "                 train_mean - train_std, alpha=0.15,\n",
    "                 color='blue')\n",
    "\n",
    "plt.plot(num_estimators, test_mean, \n",
    "         color='green', linestyle='--', \n",
    "         marker='s', markersize=5, \n",
    "         label='Validation ROC AUC')\n",
    "\n",
    "plt.fill_between(num_estimators, \n",
    "                 test_mean + test_std,\n",
    "                 test_mean - test_std, \n",
    "                 alpha=0.15, color='green')\n",
    "\n",
    "plt.grid()\n",
    "plt.legend(loc='lower right')\n",
    "plt.xlabel('n_estimators')\n",
    "plt.ylabel('ROC AUC')\n",
    "plt.show()"
   ]
  },
  {
   "cell_type": "code",
   "execution_count": 41,
   "metadata": {},
   "outputs": [],
   "source": [
    "import matplotlib.pyplot as plt\n",
    "from sklearn.model_selection import learning_curve\n",
    "\n",
    "\n",
    "train_sizes, train_scores, test_scores =\\\n",
    "                learning_curve(estimator=baseline,\n",
    "                               X=X_train_pca,\n",
    "                               y=y_train,\n",
    "                               train_sizes=np.linspace(0.1, 1.0, 10),\n",
    "                               cv=5,\n",
    "                               scoring= 'roc_auc'\n",
    "                               )\n",
    "\n",
    "train_mean = np.mean(train_scores, axis=1)\n",
    "train_std = np.std(train_scores, axis=1)\n",
    "test_mean = np.mean(test_scores, axis=1)\n",
    "test_std = np.std(test_scores, axis=1)"
   ]
  },
  {
   "cell_type": "code",
   "execution_count": 42,
   "metadata": {},
   "outputs": [
    {
     "data": {
      "image/png": "[encoded data removed]",
      "text/plain": [
       "<Figure size 432x288 with 1 Axes>"
      ]
     },
     "metadata": {
      "needs_background": "light"
     },
     "output_type": "display_data"
    }
   ],
   "source": [
    "plt.plot(train_sizes, train_mean,\n",
    "         color='blue', marker='o',\n",
    "         markersize=5, label='Training ROC AUC')\n",
    "\n",
    "plt.fill_between(train_sizes,\n",
    "                 train_mean + train_std,\n",
    "                 train_mean - train_std,\n",
    "                 alpha=0.15, color='blue')\n",
    "\n",
    "plt.plot(train_sizes, test_mean,\n",
    "         color='green', linestyle='--',\n",
    "         marker='s', markersize=5,\n",
    "         label='Validation accuracy')\n",
    "\n",
    "plt.fill_between(train_sizes,\n",
    "                 test_mean + test_std,\n",
    "                 test_mean - test_std,\n",
    "                 alpha=0.15, color='green')\n",
    "plt.grid()\n",
    "plt.xlabel('Number of training examples')\n",
    "plt.ylabel('ROC AUC')\n",
    "plt.legend(loc='lower right')\n",
    "plt.show()"
   ]
  },
  {
   "cell_type": "markdown",
   "metadata": {},
   "source": [
    "`Observations and future work`: \n",
    "\n",
    "- Confusion matrix states that we are still dealing with an imbalanced class problem even though we used an under-sampling data\n",
    "- To do diagnostics in our model and deal  with overfitting we choose learning curves and validation curves \n",
    "- Validation curve shows that below 200 iterations is a valid number to set in our random forest\n",
    "- Learning curve shows that if we increase the number of training samples the gap between training and validation scores becomes less wide. This could be related to the technique used to deal with imbalance in class\n",
    "\n"
   ]
  },
  {
   "cell_type": "markdown",
   "metadata": {},
   "source": []
  }
 ],
 "metadata": {
  "kernelspec": {
   "display_name": "Python 3.9.10 ('cluster-t')",
   "language": "python",
   "name": "python3"
  },
  "language_info": {
   "codemirror_mode": {
    "name": "ipython",
    "version": 3
   },
   "file_extension": ".py",
   "mimetype": "text/x-python",
   "name": "python",
   "nbconvert_exporter": "python",
   "pygments_lexer": "ipython3",
   "version": "3.9.10"
  },
  "orig_nbformat": 4,
  "vscode": {
   "interpreter": {
    "hash": "f7593dc81c4c5f89d7c3d0d53e1886cfdbb332bb25fabe84412f35200ebaf024"
   }
  }
 },
 "nbformat": 4,
 "nbformat_minor": 2
}
