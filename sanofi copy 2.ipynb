{
 "cells": [
  {
   "cell_type": "code",
   "execution_count": 1,
   "metadata": {},
   "outputs": [],
   "source": [
    "import pandas as pd \n",
    "from pathlib import Path\n",
    "data_folder = Path(\"data\").resolve()"
   ]
  },
  {
   "cell_type": "code",
   "execution_count": 2,
   "metadata": {},
   "outputs": [],
   "source": [
    "import pandas as pd\n",
    "\n",
    "# Read the Excel file into a dictionary of dataframes\n",
    "df_dict = pd.read_excel(data_folder / 'cc_Dataset.xlsx', sheet_name=['Sales 19-21', 'Sales 17-18', 'TV Spent', 'PromotionalEvents', 'OnsiteTrade'])\n",
    "\n",
    "# Create a separate dataframe for each sheet_name in the dictionary\n",
    "sales_19_21_df = df_dict['Sales 19-21']\n",
    "sales_17_18_df = df_dict['Sales 17-18']\n",
    "tv_spent_df = df_dict['TV Spent']\n",
    "promo_events_df = df_dict['PromotionalEvents']\n",
    "onsite_trade_df = df_dict['OnsiteTrade']\n"
   ]
  },
  {
   "cell_type": "code",
   "execution_count": 3,
   "metadata": {},
   "outputs": [
    {
     "name": "stdout",
     "output_type": "stream",
     "text": [
      "Sales 17-18 min date: 2017-01-01 00:00:00\n",
      "Sales 17-18 max date: 2018-12-01 00:00:00\n",
      "Sales 19-21 min date: 2019-01-07 00:00:00\n",
      "Sales 19-21 max date: 2021-07-12 00:00:00\n",
      "TV SPENT min date: 2019-01-07 00:00:00\n",
      "TV SPENT max date: 2021-07-12 00:00:00\n",
      "Promotional Events min date: 2017-02-01 00:00:00\n",
      "Promotional Events max date: 2021-12-01 00:00:00\n",
      "Onsite Trade min date: 2017-01-01 00:00:00\n",
      "Onsite Trade max date: 2020-12-01 00:00:00\n"
     ]
    }
   ],
   "source": [
    "# Find out ranges of dates\n",
    "print(f\"Sales 17-18 min date: {sales_17_18_df['Date'].min()}\")\n",
    "print(f\"Sales 17-18 max date: {sales_17_18_df['Date'].max()}\")\n",
    "\n",
    "\n",
    "print(f\"Sales 19-21 min date: {sales_19_21_df['Date'].min()}\")\n",
    "print(f\"Sales 19-21 max date: {sales_19_21_df['Date'].max()}\")\n",
    "\n",
    "\n",
    "print(f\"TV SPENT min date: {tv_spent_df['Date'].min()}\")\n",
    "print(f\"TV SPENT max date: {tv_spent_df['Date'].max()}\")\n",
    "\n",
    "\n",
    "print(f\"Promotional Events min date: {promo_events_df['Date'].min()}\")\n",
    "print(f\"Promotional Events max date: {promo_events_df['Date'].max()}\")\n",
    "\n",
    "print(f\"Onsite Trade min date: {onsite_trade_df['Date'].min()}\")\n",
    "print(f\"Onsite Trade max date: {onsite_trade_df['Date'].max()}\")\n"
   ]
  },
  {
   "cell_type": "code",
   "execution_count": 4,
   "metadata": {},
   "outputs": [],
   "source": [
    "# Concat sales into one dataframe\n",
    "sales_frames = [sales_17_18_df, sales_19_21_df]\n",
    "sales = pd.concat(sales_frames)"
   ]
  },
  {
   "cell_type": "code",
   "execution_count": 5,
   "metadata": {},
   "outputs": [
    {
     "name": "stdout",
     "output_type": "stream",
     "text": [
      "Sales data min date: 2017-01-01 00:00:00\n",
      "Sales data max date: 2021-07-12 00:00:00\n"
     ]
    }
   ],
   "source": [
    "print(f\"Sales data min date: {sales['Date'].min()}\")\n",
    "print(f\"Sales data max date: {sales['Date'].max()}\")"
   ]
  },
  {
   "cell_type": "code",
   "execution_count": 6,
   "metadata": {},
   "outputs": [],
   "source": [
    "sales = sales.sort_values(by='Date')"
   ]
  },
  {
   "cell_type": "code",
   "execution_count": 7,
   "metadata": {},
   "outputs": [
    {
     "data": {
      "text/html": [
       "<div>\n",
       "<style scoped>\n",
       "    .dataframe tbody tr th:only-of-type {\n",
       "        vertical-align: middle;\n",
       "    }\n",
       "\n",
       "    .dataframe tbody tr th {\n",
       "        vertical-align: top;\n",
       "    }\n",
       "\n",
       "    .dataframe thead th {\n",
       "        text-align: right;\n",
       "    }\n",
       "</style>\n",
       "<table border=\"1\" class=\"dataframe\">\n",
       "  <thead>\n",
       "    <tr style=\"text-align: right;\">\n",
       "      <th></th>\n",
       "      <th>Date</th>\n",
       "      <th>Value</th>\n",
       "    </tr>\n",
       "  </thead>\n",
       "  <tbody>\n",
       "    <tr>\n",
       "      <th>0</th>\n",
       "      <td>2017-01-01</td>\n",
       "      <td>83256.294414</td>\n",
       "    </tr>\n",
       "    <tr>\n",
       "      <th>1</th>\n",
       "      <td>2017-02-01</td>\n",
       "      <td>56386.698300</td>\n",
       "    </tr>\n",
       "    <tr>\n",
       "      <th>2</th>\n",
       "      <td>2017-03-01</td>\n",
       "      <td>43572.923602</td>\n",
       "    </tr>\n",
       "    <tr>\n",
       "      <th>3</th>\n",
       "      <td>2017-04-01</td>\n",
       "      <td>34325.450250</td>\n",
       "    </tr>\n",
       "    <tr>\n",
       "      <th>4</th>\n",
       "      <td>2017-05-01</td>\n",
       "      <td>32764.042520</td>\n",
       "    </tr>\n",
       "  </tbody>\n",
       "</table>\n",
       "</div>"
      ],
      "text/plain": [
       "        Date         Value\n",
       "0 2017-01-01  83256.294414\n",
       "1 2017-02-01  56386.698300\n",
       "2 2017-03-01  43572.923602\n",
       "3 2017-04-01  34325.450250\n",
       "4 2017-05-01  32764.042520"
      ]
     },
     "execution_count": 7,
     "metadata": {},
     "output_type": "execute_result"
    }
   ],
   "source": [
    "sales.head()"
   ]
  },
  {
   "cell_type": "code",
   "execution_count": 9,
   "metadata": {},
   "outputs": [],
   "source": [
    "sales.rename(columns={'Value': 'sales'}, inplace=True)"
   ]
  },
  {
   "cell_type": "code",
   "execution_count": 10,
   "metadata": {},
   "outputs": [],
   "source": [
    "# Rename some column in tv promotional adds\n",
    "tv_spent_df = tv_spent_df.rename(columns={'Channel 1': 'tv_channel_1', \n",
    "'Channel 2': 'tv_channel_2', 'Channel 3':'tv_channel_3'})"
   ]
  },
  {
   "cell_type": "code",
   "execution_count": 11,
   "metadata": {},
   "outputs": [],
   "source": [
    "# Merge the TV spending data with the sales data\n",
    "sales_tv_spent = pd.merge(sales, tv_spent_df, on='Date')\n",
    "\n",
    "# Merge the promotional events data with the sales data\n",
    "sales_promo_events = pd.merge(sales, promo_events_df, on='Date')\n",
    "\n",
    "# Merge the trade marketing data with the sales data\n",
    "sales_onsite_trade = pd.merge(sales, onsite_trade_df, on='Date')"
   ]
  },
  {
   "cell_type": "code",
   "execution_count": 12,
   "metadata": {},
   "outputs": [
    {
     "data": {
      "text/html": [
       "<div>\n",
       "<style scoped>\n",
       "    .dataframe tbody tr th:only-of-type {\n",
       "        vertical-align: middle;\n",
       "    }\n",
       "\n",
       "    .dataframe tbody tr th {\n",
       "        vertical-align: top;\n",
       "    }\n",
       "\n",
       "    .dataframe thead th {\n",
       "        text-align: right;\n",
       "    }\n",
       "</style>\n",
       "<table border=\"1\" class=\"dataframe\">\n",
       "  <thead>\n",
       "    <tr style=\"text-align: right;\">\n",
       "      <th></th>\n",
       "      <th>Date</th>\n",
       "      <th>sales</th>\n",
       "      <th>tv_channel_1</th>\n",
       "      <th>tv_channel_2</th>\n",
       "      <th>tv_channel_3</th>\n",
       "    </tr>\n",
       "  </thead>\n",
       "  <tbody>\n",
       "    <tr>\n",
       "      <th>0</th>\n",
       "      <td>2019-01-07</td>\n",
       "      <td>2333.774722</td>\n",
       "      <td>605</td>\n",
       "      <td>125</td>\n",
       "      <td>37.381706</td>\n",
       "    </tr>\n",
       "    <tr>\n",
       "      <th>1</th>\n",
       "      <td>2019-01-14</td>\n",
       "      <td>2140.697120</td>\n",
       "      <td>508</td>\n",
       "      <td>167</td>\n",
       "      <td>34.766218</td>\n",
       "    </tr>\n",
       "    <tr>\n",
       "      <th>2</th>\n",
       "      <td>2019-01-21</td>\n",
       "      <td>2485.883420</td>\n",
       "      <td>0</td>\n",
       "      <td>166</td>\n",
       "      <td>46.756001</td>\n",
       "    </tr>\n",
       "    <tr>\n",
       "      <th>3</th>\n",
       "      <td>2019-01-28</td>\n",
       "      <td>2777.820794</td>\n",
       "      <td>0</td>\n",
       "      <td>191</td>\n",
       "      <td>47.218405</td>\n",
       "    </tr>\n",
       "    <tr>\n",
       "      <th>4</th>\n",
       "      <td>2019-02-04</td>\n",
       "      <td>2875.494071</td>\n",
       "      <td>0</td>\n",
       "      <td>158</td>\n",
       "      <td>44.303406</td>\n",
       "    </tr>\n",
       "  </tbody>\n",
       "</table>\n",
       "</div>"
      ],
      "text/plain": [
       "        Date        sales  tv_channel_1  tv_channel_2  tv_channel_3\n",
       "0 2019-01-07  2333.774722           605           125     37.381706\n",
       "1 2019-01-14  2140.697120           508           167     34.766218\n",
       "2 2019-01-21  2485.883420             0           166     46.756001\n",
       "3 2019-01-28  2777.820794             0           191     47.218405\n",
       "4 2019-02-04  2875.494071             0           158     44.303406"
      ]
     },
     "execution_count": 12,
     "metadata": {},
     "output_type": "execute_result"
    }
   ],
   "source": [
    "# Work with tv promotional adds\n",
    "sales_tv_spent.head()"
   ]
  },
  {
   "cell_type": "code",
   "execution_count": 14,
   "metadata": {},
   "outputs": [
    {
     "data": {
      "text/plain": [
       "tv_channel_1    0.225166\n",
       "tv_channel_2    0.553599\n",
       "tv_channel_3    0.805690\n",
       "Name: sales, dtype: float64"
      ]
     },
     "execution_count": 14,
     "metadata": {},
     "output_type": "execute_result"
    }
   ],
   "source": [
    "# Find out what is corralated with sales\n",
    "corr_tv_spent = sales_tv_spent.corr()['sales'].loc['tv_channel_1':'tv_channel_3']\n",
    "corr_tv_spent"
   ]
  },
  {
   "cell_type": "code",
   "execution_count": 16,
   "metadata": {},
   "outputs": [],
   "source": [
    "import numpy as np \n",
    "# Calculate the total TV spending\n",
    "tv_spending = sales_tv_spent['tv_channel_1'] + sales_tv_spent['tv_channel_2'] + sales_tv_spent['tv_channel_3']\n",
    "\n",
    "# Calculate the ROI for each TV channel\n",
    "sales_tv_spent['TV_Channel_1_ROI'] = (sales_tv_spent.sales * sales_tv_spent['tv_channel_1']) / np.where(tv_spending == 0, 1, tv_spending)\n",
    "sales_tv_spent['TV_Channel_2_ROI'] = (sales_tv_spent.sales * sales_tv_spent['tv_channel_2']) / np.where(tv_spending == 0, 1, tv_spending)\n",
    "sales_tv_spent['TV_Channel_3_ROI'] = (sales_tv_spent.sales * sales_tv_spent['tv_channel_3']) / np.where(tv_spending == 0, 1, tv_spending)\n",
    "\n",
    "# Calculate the total ROI for all TV channel investments\n",
    "sales_tv_spent['TV_ROI'] = sales_tv_spent.sales / np.where(tv_spending == 0, 1, tv_spending)\n",
    "\n"
   ]
  },
  {
   "cell_type": "code",
   "execution_count": 17,
   "metadata": {},
   "outputs": [],
   "source": [
    "# Calculate overall tv spending\n",
    "sales_tv_spent['tv_spending'] = sales_tv_spent['tv_channel_1'] + sales_tv_spent['tv_channel_2'] + sales_tv_spent['tv_channel_3']"
   ]
  },
  {
   "cell_type": "code",
   "execution_count": 18,
   "metadata": {},
   "outputs": [],
   "source": [
    "sales_tv_spent.sort_values(by = 'Date', inplace= True)"
   ]
  },
  {
   "cell_type": "code",
   "execution_count": 19,
   "metadata": {},
   "outputs": [
    {
     "data": {
      "text/plain": [
       "<AxesSubplot:xlabel='Date', ylabel='TV_Channel_3_ROI'>"
      ]
     },
     "execution_count": 19,
     "metadata": {},
     "output_type": "execute_result"
    },
    {
     "data": {
      "image/png": "[encoded data removed]",
      "text/plain": [
       "<Figure size 720x432 with 1 Axes>"
      ]
     },
     "metadata": {
      "needs_background": "light"
     },
     "output_type": "display_data"
    }
   ],
   "source": [
    "sales_tv_spent_date = sales_tv_spent.set_index('Date')\n",
    "\n",
    "import matplotlib.pyplot as plt\n",
    "import seaborn as sns\n",
    "\n",
    "# Create a line plot of the ROI metrics over time\n",
    "plt.figure(figsize=(10, 6))\n",
    "sns.lineplot(data=sales_tv_spent_date['TV_Channel_3_ROI'])"
   ]
  },
  {
   "cell_type": "code",
   "execution_count": null,
   "metadata": {},
   "outputs": [],
   "source": [
    "sales_tv_spent_date_month=  sales_tv_spent_date.resample('M').mean()"
   ]
  },
  {
   "cell_type": "code",
   "execution_count": null,
   "metadata": {},
   "outputs": [],
   "source": [
    "plt.figure(figsize=(15, 10))\n",
    "sns.lineplot(data=sales_tv_spent_date[['Value', 'tv_spending',  'TV_Channel_3_ROI']])"
   ]
  },
  {
   "cell_type": "code",
   "execution_count": null,
   "metadata": {},
   "outputs": [],
   "source": [
    "plt.figure(figsize=(15, 10))\n",
    "sns.lineplot(data=sales_tv_spent_date_month[['Value', 'tv_spending',  'TV_Channel_3_ROI']])\n",
    "\n",
    "# Set the tick labels for the x-axis\n",
    "tick_labels = [d.strftime('%B %Y') for d in sales_tv_spent_date_month.index]\n",
    "plt.xticks(sales_tv_spent_date_month.index, tick_labels, rotation=45, ha='right')\n",
    "# Add labels and title to the plot\n",
    "plt.xlabel('Month')\n",
    "plt.ylabel('Value')\n",
    "plt.title('Monthly Sales, TV Spending, and TV Channel 3 ROI')\n",
    "\n",
    "# Display the plot\n",
    "plt.show()"
   ]
  },
  {
   "cell_type": "code",
   "execution_count": null,
   "metadata": {},
   "outputs": [],
   "source": [
    "sales_tv_spent_date_q=  sales_tv_spent_date.resample('Q').mean()\n",
    "plt.figure(figsize=(15, 10))\n",
    "sns.lineplot(data=sales_tv_spent_date_q[['Value', 'tv_spending',  'TV_Channel_1_ROI','TV_Channel_2_ROI', 'TV_Channel_3_ROI' ]])\n",
    "tick_labels = [f'Q{q.quarter} {q.year}' for q in sales_tv_spent_date_q.index]\n",
    "plt.xticks(sales_tv_spent_date_q.index, tick_labels,  rotation=45, ha='right')\n",
    "# Add labels and title to the plot\n",
    "plt.xlabel('Quarter')\n",
    "plt.ylabel('Value')\n",
    "plt.title('Monthly Sales, TV Spending, and TV Channel 3 ROI')\n",
    "\n",
    "# Display the plot\n",
    "plt.show()"
   ]
  },
  {
   "cell_type": "code",
   "execution_count": null,
   "metadata": {},
   "outputs": [],
   "source": [
    "import matplotlib.pyplot as plt\n",
    "import seaborn as sns\n",
    "\n",
    "\n",
    "\n",
    "# Smooth the lines by calculating a rolling average with window size 2 quarters\n",
    "sales_tv_spent_date_q_smoothed = sales_tv_spent_date_q.rolling(window=2).mean()\n",
    "\n",
    "# Create the line plot with smoothed data\n",
    "plt.figure(figsize=(15, 10))\n",
    "sns.lineplot(data=sales_tv_spent_date_q_smoothed[['Value', 'tv_spending', 'TV_Channel_1_ROI', 'TV_Channel_2_ROI', 'TV_Channel_3_ROI', 'TV_ROI']])\n",
    "\n",
    "# Set the tick labels for the x-axis\n",
    "tick_labels = [f'Q{q.quarter} {q.year}' for q in sales_tv_spent_date_q_smoothed.index]\n",
    "plt.xticks(sales_tv_spent_date_q_smoothed.index, tick_labels, rotation=45, ha='right')\n",
    "\n",
    "# Add labels and title to the plot\n",
    "plt.xlabel('Quarter')\n",
    "plt.ylabel('Value')\n",
    "plt.title('Quarterly Sales, TV Spending, and TV Channel ROI (Smoothed)')\n",
    "\n",
    "# Display the plot\n",
    "plt.show()\n"
   ]
  },
  {
   "cell_type": "code",
   "execution_count": null,
   "metadata": {},
   "outputs": [],
   "source": [
    "plt.figure(figsize=(10, 6))\n",
    "sns.heatmap(sales_tv_spent.corr(), annot=True)"
   ]
  },
  {
   "cell_type": "code",
   "execution_count": null,
   "metadata": {},
   "outputs": [],
   "source": [
    "sales_tv_spent.corr()['Value'].loc['tv_channel_1':'TV_ROI'].sort_values()"
   ]
  },
  {
   "cell_type": "code",
   "execution_count": null,
   "metadata": {},
   "outputs": [],
   "source": [
    "# sales promotional events \n",
    "\n",
    "print(sales_promo_events.head())"
   ]
  },
  {
   "cell_type": "code",
   "execution_count": null,
   "metadata": {},
   "outputs": [],
   "source": [
    "sales_promo_events.sort_values(by ='Cost')"
   ]
  },
  {
   "cell_type": "code",
   "execution_count": null,
   "metadata": {},
   "outputs": [],
   "source": [
    "# Group the data by Topic and calculate the total sales and total promotional expenses\n",
    "grouped = sales_promo_events.groupby(['Topic', 'Date']).agg({'Value': 'sum', 'Cost': 'sum'})\n"
   ]
  },
  {
   "cell_type": "code",
   "execution_count": null,
   "metadata": {},
   "outputs": [],
   "source": [
    "grouped.head()"
   ]
  },
  {
   "cell_type": "code",
   "execution_count": null,
   "metadata": {},
   "outputs": [],
   "source": [
    "grouped['ROI'] = (grouped['Value'] - grouped['Cost']) / grouped['Cost']\n",
    "\n"
   ]
  },
  {
   "cell_type": "code",
   "execution_count": null,
   "metadata": {},
   "outputs": [],
   "source": [
    "grouped = grouped.reset_index()"
   ]
  },
  {
   "cell_type": "code",
   "execution_count": null,
   "metadata": {},
   "outputs": [],
   "source": [
    "grouped_promo_events = grouped.copy()"
   ]
  },
  {
   "cell_type": "code",
   "execution_count": null,
   "metadata": {},
   "outputs": [],
   "source": [
    "grouped_promo_events.isna().sum()"
   ]
  },
  {
   "cell_type": "code",
   "execution_count": null,
   "metadata": {},
   "outputs": [],
   "source": [
    "grouped_promo_events.set_index('Date', inplace=True)"
   ]
  },
  {
   "cell_type": "code",
   "execution_count": null,
   "metadata": {},
   "outputs": [],
   "source": [
    "grouped_promo_events"
   ]
  },
  {
   "cell_type": "code",
   "execution_count": null,
   "metadata": {},
   "outputs": [],
   "source": [
    "cough_promo_event = grouped_promo_events.query(\"Topic == 'COUGH' \")"
   ]
  },
  {
   "cell_type": "code",
   "execution_count": null,
   "metadata": {},
   "outputs": [],
   "source": [
    "cough_promo_event.drop('Topic', axis=1, inplace=True)"
   ]
  },
  {
   "cell_type": "code",
   "execution_count": null,
   "metadata": {},
   "outputs": [],
   "source": [
    "cough_promo_event_m =  cough_promo_event.resample('Q').mean()\n",
    "cough_promo_event_m = cough_promo_event_m.fillna(0)"
   ]
  },
  {
   "cell_type": "code",
   "execution_count": null,
   "metadata": {},
   "outputs": [],
   "source": [
    "plt.figure(figsize=(15, 10))\n",
    "sns.lineplot(data=cough_promo_event_m[['Value', 'Cost',  'ROI']])\n",
    "\n",
    "# Set the tick labels for the x-axis\n",
    "tick_labels = [f'Q{q.quarter} {q.year}' for q in cough_promo_event_m.index]\n",
    "plt.xticks(cough_promo_event_m.index, tick_labels,  rotation=45, ha='right')\n",
    "# Add labels and title to the plot\n",
    "plt.xlabel('Quarter')\n",
    "plt.ylabel('Value')\n",
    "plt.title('Quarter Sales, Cost and ROI for Cough Events')\n",
    "\n",
    "# Display the plot\n",
    "plt.show()"
   ]
  },
  {
   "cell_type": "code",
   "execution_count": null,
   "metadata": {},
   "outputs": [],
   "source": [
    "cough_promo_event.sort_values(by = 'Date')"
   ]
  },
  {
   "cell_type": "code",
   "execution_count": null,
   "metadata": {},
   "outputs": [],
   "source": [
    "((56386.698300 - 23.505) / 23.505) "
   ]
  },
  {
   "cell_type": "code",
   "execution_count": null,
   "metadata": {},
   "outputs": [],
   "source": [
    "((1000-100) / 100) * 100"
   ]
  },
  {
   "cell_type": "code",
   "execution_count": null,
   "metadata": {},
   "outputs": [],
   "source": [
    "cough_promo_event\n",
    "plt.figure(figsize=(15, 10))\n",
    "sns.lineplot(data=cough_promo_event[['ROI', 'Cost']])"
   ]
  },
  {
   "cell_type": "code",
   "execution_count": null,
   "metadata": {},
   "outputs": [],
   "source": [
    "sales_onsite_trade = sales_onsite_trade.rename(columns={'Value_x': 'Sales', 'Value_y':'Cost'})"
   ]
  },
  {
   "cell_type": "code",
   "execution_count": null,
   "metadata": {},
   "outputs": [],
   "source": [
    "sales_onsite_trade"
   ]
  },
  {
   "cell_type": "code",
   "execution_count": null,
   "metadata": {},
   "outputs": [],
   "source": [
    "sales_onsite_trade.Region.unique()"
   ]
  },
  {
   "cell_type": "code",
   "execution_count": null,
   "metadata": {},
   "outputs": [],
   "source": [
    "# Group the data by Topic and calculate the total sales and total promotional expenses\n",
    "grouped_onsite_trade = sales_onsite_trade.groupby(['Region', 'Date']).agg({'Sales': 'sum', 'Cost': 'sum'})\n",
    "\n",
    "# Drop the rows where 'Cost' is 0\n",
    "grouped_onsite_trade = grouped_onsite_trade[grouped_onsite_trade['Cost'] != 0]\n",
    "\n",
    "# Calculate the ROI\n",
    "grouped_onsite_trade['ROI'] = (grouped_onsite_trade['Sales'] - grouped_onsite_trade['Cost']) / grouped_onsite_trade['Cost']\n"
   ]
  },
  {
   "cell_type": "code",
   "execution_count": null,
   "metadata": {},
   "outputs": [],
   "source": [
    "grouped_onsite_trade = grouped_onsite_trade.reset_index()"
   ]
  },
  {
   "cell_type": "code",
   "execution_count": null,
   "metadata": {},
   "outputs": [],
   "source": [
    "print(grouped_onsite_trade.head())"
   ]
  },
  {
   "cell_type": "code",
   "execution_count": null,
   "metadata": {},
   "outputs": [],
   "source": [
    "# Create a line plot of ROI by region\n",
    "sns.relplot(data=grouped_onsite_trade, x='Date', y='ROI', hue='Region', kind='line', height=5, aspect=1.5)\n",
    "\n",
    "# Add a title to the chart\n",
    "plt.title('ROI by Region')\n",
    "\n",
    "# Display the chart\n",
    "plt.show()\n",
    "\n",
    "\n",
    "\n"
   ]
  },
  {
   "cell_type": "code",
   "execution_count": null,
   "metadata": {},
   "outputs": [],
   "source": [
    "print(sales_tv_spent[['Value', '']].head())"
   ]
  },
  {
   "cell_type": "code",
   "execution_count": null,
   "metadata": {},
   "outputs": [],
   "source": [
    "print(grouped_onsite_trade.head())"
   ]
  },
  {
   "cell_type": "code",
   "execution_count": null,
   "metadata": {},
   "outputs": [],
   "source": [
    "print(grouped_promo_events.head())"
   ]
  },
  {
   "cell_type": "code",
   "execution_count": null,
   "metadata": {},
   "outputs": [],
   "source": []
  }
 ],
 "metadata": {
  "kernelspec": {
   "display_name": "cluster-t",
   "language": "python",
   "name": "python3"
  },
  "language_info": {
   "codemirror_mode": {
    "name": "ipython",
    "version": 3
   },
   "file_extension": ".py",
   "mimetype": "text/x-python",
   "name": "python",
   "nbconvert_exporter": "python",
   "pygments_lexer": "ipython3",
   "version": "3.9.10"
  },
  "orig_nbformat": 4,
  "vscode": {
   "interpreter": {
    "hash": "f7593dc81c4c5f89d7c3d0d53e1886cfdbb332bb25fabe84412f35200ebaf024"
   }
  }
 },
 "nbformat": 4,
 "nbformat_minor": 2
}
