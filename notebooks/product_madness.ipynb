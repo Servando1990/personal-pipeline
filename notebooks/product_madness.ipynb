{
 "cells": [
  {
   "cell_type": "code",
   "execution_count": 8,
   "metadata": {},
   "outputs": [
    {
     "ename": "TypeError",
     "evalue": "unhashable type: 'list'",
     "output_type": "error",
     "traceback": [
      "\u001b[0;31m---------------------------------------------------------------------------\u001b[0m",
      "\u001b[0;31mTypeError\u001b[0m                                 Traceback (most recent call last)",
      "\u001b[1;32m/Users/servandodavidtorresgarcia/Servando/personal-pipeline/product_madness.ipynb Cell 1\u001b[0m in \u001b[0;36m<cell line: 3>\u001b[0;34m()\u001b[0m\n\u001b[1;32m      <a href='vscode-notebook-cell:/Users/servandodavidtorresgarcia/Servando/personal-pipeline/product_madness.ipynb#W0sZmlsZQ%3D%3D?line=0'>1</a>\u001b[0m my_list \u001b[39m=\u001b[39m [\u001b[39m1\u001b[39m,\u001b[39m3\u001b[39m,\u001b[39m5\u001b[39m,\u001b[39m6\u001b[39m]\n\u001b[0;32m----> <a href='vscode-notebook-cell:/Users/servandodavidtorresgarcia/Servando/personal-pipeline/product_madness.ipynb#W0sZmlsZQ%3D%3D?line=1'>2</a>\u001b[0m my_dict \u001b[39m=\u001b[39m {\n\u001b[1;32m      <a href='vscode-notebook-cell:/Users/servandodavidtorresgarcia/Servando/personal-pipeline/product_madness.ipynb#W0sZmlsZQ%3D%3D?line=2'>3</a>\u001b[0m     my_list: \u001b[39m1\u001b[39m, \n\u001b[1;32m      <a href='vscode-notebook-cell:/Users/servandodavidtorresgarcia/Servando/personal-pipeline/product_madness.ipynb#W0sZmlsZQ%3D%3D?line=3'>4</a>\u001b[0m     \u001b[39m'\u001b[39m\u001b[39mkey2_2\u001b[39m\u001b[39m'\u001b[39m: \u001b[39m'\u001b[39m\u001b[39mServando\u001b[39m\u001b[39m'\u001b[39m\n\u001b[1;32m      <a href='vscode-notebook-cell:/Users/servandodavidtorresgarcia/Servando/personal-pipeline/product_madness.ipynb#W0sZmlsZQ%3D%3D?line=4'>5</a>\u001b[0m }\n",
      "\u001b[0;31mTypeError\u001b[0m: unhashable type: 'list'"
     ]
    }
   ],
   "source": [
    "my_list = [1,3,5,6]\n",
    "my_dict = {\n",
    "    my_list: 1, \n",
    "    'key2_2': 'Servando'\n",
    "}"
   ]
  },
  {
   "cell_type": "code",
   "execution_count": 9,
   "metadata": {},
   "outputs": [
    {
     "name": "stdout",
     "output_type": "stream",
     "text": [
      "(list[1, 23], 1)\n",
      "('key2_2', 'Servando')\n"
     ]
    }
   ],
   "source": [
    "# key value pairs\n",
    "\n",
    "for  item in my_dict.items():\n",
    "    print(item)\n",
    "\n"
   ]
  },
  {
   "cell_type": "code",
   "execution_count": 10,
   "metadata": {},
   "outputs": [
    {
     "data": {
      "text/plain": [
       "[6, 5, 3, 1]"
      ]
     },
     "execution_count": 10,
     "metadata": {},
     "output_type": "execute_result"
    }
   ],
   "source": [
    "my_list[::-1]"
   ]
  },
  {
   "cell_type": "code",
   "execution_count": 11,
   "metadata": {},
   "outputs": [],
   "source": [
    "my_list.append(0)"
   ]
  },
  {
   "cell_type": "code",
   "execution_count": 12,
   "metadata": {},
   "outputs": [
    {
     "data": {
      "text/plain": [
       "[1, 3, 5, 6, 0]"
      ]
     },
     "execution_count": 12,
     "metadata": {},
     "output_type": "execute_result"
    }
   ],
   "source": [
    "my_list"
   ]
  },
  {
   "cell_type": "code",
   "execution_count": 13,
   "metadata": {},
   "outputs": [
    {
     "name": "stdout",
     "output_type": "stream",
     "text": [
      "denominator = 0\n"
     ]
    }
   ],
   "source": [
    "a= 10\n",
    "denominator = 0\n",
    "\n",
    "\n",
    "\n",
    "try:\n",
    "    a / denominator\n",
    "\n",
    "except:\n",
    "    print('denominator = 0')\n"
   ]
  },
  {
   "cell_type": "code",
   "execution_count": 23,
   "metadata": {},
   "outputs": [],
   "source": [
    "import pandas as pd\n",
    "\n",
    "df = pd.read_csv('sales_data.csv')"
   ]
  },
  {
   "cell_type": "code",
   "execution_count": 25,
   "metadata": {},
   "outputs": [
    {
     "name": "stdout",
     "output_type": "stream",
     "text": [
      "<class 'pandas.core.frame.DataFrame'>\n",
      "RangeIndex: 6 entries, 0 to 5\n",
      "Data columns (total 6 columns):\n",
      " #   Column           Non-Null Count  Dtype \n",
      "---  ------           --------------  ----- \n",
      " 0   ID               6 non-null      int64 \n",
      " 1    Order Date      6 non-null      object\n",
      " 2    Customer Name   6 non-null      object\n",
      " 3    Item            6 non-null      object\n",
      " 4    Cost            6 non-null      object\n",
      " 5    Order Quantity  6 non-null      object\n",
      "dtypes: int64(1), object(5)\n",
      "memory usage: 416.0+ bytes\n"
     ]
    }
   ],
   "source": [
    "df.info()"
   ]
  },
  {
   "cell_type": "code",
   "execution_count": 18,
   "metadata": {},
   "outputs": [
    {
     "data": {
      "text/plain": [
       "Index(['ID', ' Order Date', ' Customer Name', ' Item', ' Cost',\n",
       "       ' Order Quantity'],\n",
       "      dtype='object')"
      ]
     },
     "execution_count": 18,
     "metadata": {},
     "output_type": "execute_result"
    }
   ],
   "source": [
    "df.columns"
   ]
  },
  {
   "cell_type": "code",
   "execution_count": 21,
   "metadata": {},
   "outputs": [],
   "source": [
    "df[' Order Quantity'] = df[' Order Quantity'].apply(lambda x: x == ' N/A', '0')"
   ]
  },
  {
   "cell_type": "code",
   "execution_count": 29,
   "metadata": {},
   "outputs": [],
   "source": [
    "df[' Order Quantity'] = df[' Order Quantity'].replace(' N/A', 0)"
   ]
  },
  {
   "cell_type": "code",
   "execution_count": 27,
   "metadata": {},
   "outputs": [],
   "source": [
    "df[' Cost'] = df[' Cost'].replace(' N/A', 0)"
   ]
  },
  {
   "cell_type": "code",
   "execution_count": 30,
   "metadata": {},
   "outputs": [
    {
     "data": {
      "text/html": [
       "<div>\n",
       "<style scoped>\n",
       "    .dataframe tbody tr th:only-of-type {\n",
       "        vertical-align: middle;\n",
       "    }\n",
       "\n",
       "    .dataframe tbody tr th {\n",
       "        vertical-align: top;\n",
       "    }\n",
       "\n",
       "    .dataframe thead th {\n",
       "        text-align: right;\n",
       "    }\n",
       "</style>\n",
       "<table border=\"1\" class=\"dataframe\">\n",
       "  <thead>\n",
       "    <tr style=\"text-align: right;\">\n",
       "      <th></th>\n",
       "      <th>ID</th>\n",
       "      <th>Order Date</th>\n",
       "      <th>Customer Name</th>\n",
       "      <th>Item</th>\n",
       "      <th>Cost</th>\n",
       "      <th>Order Quantity</th>\n",
       "    </tr>\n",
       "  </thead>\n",
       "  <tbody>\n",
       "    <tr>\n",
       "      <th>0</th>\n",
       "      <td>1</td>\n",
       "      <td>2019-01-01</td>\n",
       "      <td>Anna</td>\n",
       "      <td>Monitor</td>\n",
       "      <td>100</td>\n",
       "      <td>10</td>\n",
       "    </tr>\n",
       "    <tr>\n",
       "      <th>1</th>\n",
       "      <td>2</td>\n",
       "      <td>2019-06-02</td>\n",
       "      <td>Ben</td>\n",
       "      <td>Monitor</td>\n",
       "      <td>100</td>\n",
       "      <td>5</td>\n",
       "    </tr>\n",
       "    <tr>\n",
       "      <th>2</th>\n",
       "      <td>3</td>\n",
       "      <td>2019-03-19</td>\n",
       "      <td>Lewis</td>\n",
       "      <td>Laptop</td>\n",
       "      <td>400</td>\n",
       "      <td>0</td>\n",
       "    </tr>\n",
       "    <tr>\n",
       "      <th>3</th>\n",
       "      <td>4</td>\n",
       "      <td>2019-07-03</td>\n",
       "      <td>Charles</td>\n",
       "      <td>Laptop</td>\n",
       "      <td>400</td>\n",
       "      <td>2</td>\n",
       "    </tr>\n",
       "    <tr>\n",
       "      <th>4</th>\n",
       "      <td>5</td>\n",
       "      <td>2019-04-14</td>\n",
       "      <td>John</td>\n",
       "      <td>Keyboard</td>\n",
       "      <td>0</td>\n",
       "      <td>20</td>\n",
       "    </tr>\n",
       "    <tr>\n",
       "      <th>5</th>\n",
       "      <td>6</td>\n",
       "      <td>2019-01-12</td>\n",
       "      <td>Sam</td>\n",
       "      <td>Keyboard</td>\n",
       "      <td>10</td>\n",
       "      <td>15</td>\n",
       "    </tr>\n",
       "  </tbody>\n",
       "</table>\n",
       "</div>"
      ],
      "text/plain": [
       "   ID   Order Date  Customer Name       Item  Cost  Order Quantity\n",
       "0   1   2019-01-01           Anna    Monitor   100              10\n",
       "1   2   2019-06-02            Ben    Monitor   100               5\n",
       "2   3   2019-03-19          Lewis     Laptop   400               0\n",
       "3   4   2019-07-03        Charles     Laptop   400               2\n",
       "4   5   2019-04-14           John   Keyboard     0              20\n",
       "5   6   2019-01-12            Sam   Keyboard    10              15"
      ]
     },
     "execution_count": 30,
     "metadata": {},
     "output_type": "execute_result"
    }
   ],
   "source": [
    "df"
   ]
  },
  {
   "cell_type": "code",
   "execution_count": 31,
   "metadata": {},
   "outputs": [],
   "source": [
    "# revenue = cost * order quanitty \n",
    "\n",
    "\n",
    "\n",
    "df[' Cost'] = df[' Cost'].astype(int)\n",
    "df[' Order Quantity'] = df[' Order Quantity'].astype(int)\n",
    "\n",
    "\n",
    "df['revenue'] = df[' Cost'] * df[' Order Quantity']"
   ]
  },
  {
   "cell_type": "code",
   "execution_count": 32,
   "metadata": {},
   "outputs": [
    {
     "data": {
      "text/html": [
       "<div>\n",
       "<style scoped>\n",
       "    .dataframe tbody tr th:only-of-type {\n",
       "        vertical-align: middle;\n",
       "    }\n",
       "\n",
       "    .dataframe tbody tr th {\n",
       "        vertical-align: top;\n",
       "    }\n",
       "\n",
       "    .dataframe thead th {\n",
       "        text-align: right;\n",
       "    }\n",
       "</style>\n",
       "<table border=\"1\" class=\"dataframe\">\n",
       "  <thead>\n",
       "    <tr style=\"text-align: right;\">\n",
       "      <th></th>\n",
       "      <th>ID</th>\n",
       "      <th>Order Date</th>\n",
       "      <th>Customer Name</th>\n",
       "      <th>Item</th>\n",
       "      <th>Cost</th>\n",
       "      <th>Order Quantity</th>\n",
       "      <th>revenue</th>\n",
       "    </tr>\n",
       "  </thead>\n",
       "  <tbody>\n",
       "    <tr>\n",
       "      <th>0</th>\n",
       "      <td>1</td>\n",
       "      <td>2019-01-01</td>\n",
       "      <td>Anna</td>\n",
       "      <td>Monitor</td>\n",
       "      <td>100</td>\n",
       "      <td>10</td>\n",
       "      <td>1000</td>\n",
       "    </tr>\n",
       "    <tr>\n",
       "      <th>1</th>\n",
       "      <td>2</td>\n",
       "      <td>2019-06-02</td>\n",
       "      <td>Ben</td>\n",
       "      <td>Monitor</td>\n",
       "      <td>100</td>\n",
       "      <td>5</td>\n",
       "      <td>500</td>\n",
       "    </tr>\n",
       "    <tr>\n",
       "      <th>2</th>\n",
       "      <td>3</td>\n",
       "      <td>2019-03-19</td>\n",
       "      <td>Lewis</td>\n",
       "      <td>Laptop</td>\n",
       "      <td>400</td>\n",
       "      <td>0</td>\n",
       "      <td>0</td>\n",
       "    </tr>\n",
       "    <tr>\n",
       "      <th>3</th>\n",
       "      <td>4</td>\n",
       "      <td>2019-07-03</td>\n",
       "      <td>Charles</td>\n",
       "      <td>Laptop</td>\n",
       "      <td>400</td>\n",
       "      <td>2</td>\n",
       "      <td>800</td>\n",
       "    </tr>\n",
       "    <tr>\n",
       "      <th>4</th>\n",
       "      <td>5</td>\n",
       "      <td>2019-04-14</td>\n",
       "      <td>John</td>\n",
       "      <td>Keyboard</td>\n",
       "      <td>0</td>\n",
       "      <td>20</td>\n",
       "      <td>0</td>\n",
       "    </tr>\n",
       "    <tr>\n",
       "      <th>5</th>\n",
       "      <td>6</td>\n",
       "      <td>2019-01-12</td>\n",
       "      <td>Sam</td>\n",
       "      <td>Keyboard</td>\n",
       "      <td>10</td>\n",
       "      <td>15</td>\n",
       "      <td>150</td>\n",
       "    </tr>\n",
       "  </tbody>\n",
       "</table>\n",
       "</div>"
      ],
      "text/plain": [
       "   ID   Order Date  Customer Name       Item   Cost   Order Quantity  revenue\n",
       "0   1   2019-01-01           Anna    Monitor    100               10     1000\n",
       "1   2   2019-06-02            Ben    Monitor    100                5      500\n",
       "2   3   2019-03-19          Lewis     Laptop    400                0        0\n",
       "3   4   2019-07-03        Charles     Laptop    400                2      800\n",
       "4   5   2019-04-14           John   Keyboard      0               20        0\n",
       "5   6   2019-01-12            Sam   Keyboard     10               15      150"
      ]
     },
     "execution_count": 32,
     "metadata": {},
     "output_type": "execute_result"
    }
   ],
   "source": [
    "df"
   ]
  },
  {
   "cell_type": "code",
   "execution_count": null,
   "metadata": {},
   "outputs": [],
   "source": [
    "df.loc[]"
   ]
  },
  {
   "cell_type": "code",
   "execution_count": 36,
   "metadata": {},
   "outputs": [
    {
     "data": {
      "text/plain": [
       "1000"
      ]
     },
     "execution_count": 36,
     "metadata": {},
     "output_type": "execute_result"
    }
   ],
   "source": [
    "df.loc[0, 'revenue']"
   ]
  },
  {
   "cell_type": "code",
   "execution_count": 47,
   "metadata": {},
   "outputs": [
    {
     "name": "stdout",
     "output_type": "stream",
     "text": [
      "10\n"
     ]
    }
   ],
   "source": [
    "# second largest value in a list \n",
    "\n",
    "my_list = [14, 14, 7, 8, 9, 1, 10, 10]\n",
    "\n",
    "def second_largest_value(lst):\n",
    "\n",
    "    sorted_list = sorted(lst, reverse=True)\n",
    "\n",
    "    for i in sorted_list:\n",
    "        if i == i:  \n",
    "            sorted_list.pop(i)\n",
    "        else:\n",
    "            sorted_list\n",
    "\n",
    "\n",
    "    return print(sorted_list)\n",
    "\n",
    "second_largest_value(my_list)"
   ]
  },
  {
   "cell_type": "code",
   "execution_count": null,
   "metadata": {},
   "outputs": [],
   "source": []
  }
 ],
 "metadata": {
  "kernelspec": {
   "display_name": "cluster-t",
   "language": "python",
   "name": "python3"
  },
  "language_info": {
   "codemirror_mode": {
    "name": "ipython",
    "version": 3
   },
   "file_extension": ".py",
   "mimetype": "text/x-python",
   "name": "python",
   "nbconvert_exporter": "python",
   "pygments_lexer": "ipython3",
   "version": "3.9.10"
  },
  "orig_nbformat": 4,
  "vscode": {
   "interpreter": {
    "hash": "f7593dc81c4c5f89d7c3d0d53e1886cfdbb332bb25fabe84412f35200ebaf024"
   }
  }
 },
 "nbformat": 4,
 "nbformat_minor": 2
}
